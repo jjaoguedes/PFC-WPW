{
 "cells": [
  {
   "cell_type": "markdown",
   "id": "fd43ec97",
   "metadata": {},
   "source": [
    "# Leitura e Pré-processamento dos Registros da Base MIT-BIH\n",
    "\n",
    "Este notebook realiza a leitura, pré-processamento e análise dos registros da base MIT-BIH Arrhythmia Database.\n",
    "\n",
    "## Etapas do processo:\n",
    "1. Carregar e verificar os registros disponíveis.\n",
    "2. Processar os registros com o canal MLII (canal padrão de ECG).\n",
    "3. Extrair os batimentos cardíacos e suas classes.\n",
    "4. Salvar os dados extraídos em um arquivo CSV."
   ]
  },
  {
   "cell_type": "markdown",
   "id": "f34b09a7",
   "metadata": {},
   "source": [
    "## 1. Importação de Bibliotecas\n",
    "\n",
    "- `wfdb`: Para ler os registros de ECG da base MIT-BIH.\n",
    "- `os`: Para manipulação de arquivos e diretórios.\n",
    "- `pandas`: Para organização e manipulação dos dados em DataFrames."
   ]
  },
  {
   "cell_type": "code",
   "execution_count": 3,
   "id": "5e8d4af9",
   "metadata": {},
   "outputs": [],
   "source": [
    "import wfdb\n",
    "from wfdb import rdrecord\n",
    "import os\n",
    "import pandas as pd\n",
    "import numpy as np\n",
    "from tqdm import tqdm\n"
   ]
  },
  {
   "cell_type": "markdown",
   "id": "50292d75",
   "metadata": {},
   "source": [
    "## 2. Definição dos registros, caminho dos Arquivos, iteração sobre os registros e exibição dos canais disponíveis\n",
    "\n",
    "O código irá iterar sobre cada um desses registros e verificar os canais disponíveis.\n"
   ]
  },
  {
   "cell_type": "code",
   "execution_count": 4,
   "id": "3b5555e9",
   "metadata": {},
   "outputs": [
    {
     "name": "stdout",
     "output_type": "stream",
     "text": [
      "Registro 100: Canais disponíveis -> ['MLII', 'V5']\n",
      "Registro 101: Canais disponíveis -> ['MLII', 'V1']\n",
      "Registro 102: Canais disponíveis -> ['V5', 'V2']\n",
      "Registro 103: Canais disponíveis -> ['MLII', 'V2']\n",
      "Registro 104: Canais disponíveis -> ['V5', 'V2']\n",
      "Registro 105: Canais disponíveis -> ['MLII', 'V1']\n",
      "Registro 106: Canais disponíveis -> ['MLII', 'V1']\n",
      "Registro 107: Canais disponíveis -> ['MLII', 'V1']\n",
      "Registro 108: Canais disponíveis -> ['MLII', 'V1']\n",
      "Registro 109: Canais disponíveis -> ['MLII', 'V1']\n",
      "Registro 111: Canais disponíveis -> ['MLII', 'V1']\n",
      "Registro 112: Canais disponíveis -> ['MLII', 'V1']\n",
      "Registro 113: Canais disponíveis -> ['MLII', 'V1']\n",
      "Registro 114: Canais disponíveis -> ['V5', 'MLII']\n",
      "Registro 115: Canais disponíveis -> ['MLII', 'V1']\n",
      "Registro 116: Canais disponíveis -> ['MLII', 'V1']\n",
      "Registro 117: Canais disponíveis -> ['MLII', 'V2']\n",
      "Registro 118: Canais disponíveis -> ['MLII', 'V1']\n",
      "Registro 119: Canais disponíveis -> ['MLII', 'V1']\n",
      "Registro 121: Canais disponíveis -> ['MLII', 'V1']\n",
      "Registro 122: Canais disponíveis -> ['MLII', 'V1']\n",
      "Registro 123: Canais disponíveis -> ['MLII', 'V5']\n",
      "Registro 124: Canais disponíveis -> ['MLII', 'V4']\n",
      "Registro 200: Canais disponíveis -> ['MLII', 'V1']\n",
      "Registro 201: Canais disponíveis -> ['MLII', 'V1']\n",
      "Registro 202: Canais disponíveis -> ['MLII', 'V1']\n",
      "Registro 203: Canais disponíveis -> ['MLII', 'V1']\n",
      "Registro 205: Canais disponíveis -> ['MLII', 'V1']\n",
      "Registro 207: Canais disponíveis -> ['MLII', 'V1']\n",
      "Registro 208: Canais disponíveis -> ['MLII', 'V1']\n",
      "Registro 209: Canais disponíveis -> ['MLII', 'V1']\n",
      "Registro 210: Canais disponíveis -> ['MLII', 'V1']\n",
      "Registro 212: Canais disponíveis -> ['MLII', 'V1']\n",
      "Registro 213: Canais disponíveis -> ['MLII', 'V1']\n",
      "Registro 214: Canais disponíveis -> ['MLII', 'V1']\n",
      "Registro 215: Canais disponíveis -> ['MLII', 'V1']\n",
      "Registro 217: Canais disponíveis -> ['MLII', 'V1']\n",
      "Registro 219: Canais disponíveis -> ['MLII', 'V1']\n",
      "Registro 220: Canais disponíveis -> ['MLII', 'V1']\n",
      "Registro 221: Canais disponíveis -> ['MLII', 'V1']\n",
      "Registro 222: Canais disponíveis -> ['MLII', 'V1']\n",
      "Registro 223: Canais disponíveis -> ['MLII', 'V1']\n",
      "Registro 228: Canais disponíveis -> ['MLII', 'V1']\n",
      "Registro 230: Canais disponíveis -> ['MLII', 'V1']\n",
      "Registro 231: Canais disponíveis -> ['MLII', 'V1']\n",
      "Registro 232: Canais disponíveis -> ['MLII', 'V1']\n",
      "Registro 233: Canais disponíveis -> ['MLII', 'V1']\n",
      "Registro 234: Canais disponíveis -> ['MLII', 'V1']\n"
     ]
    }
   ],
   "source": [
    "registros = [\n",
    "    '100', '101', '102', '103', '104', '105', '106', '107', '108', '109',\n",
    "    '111', '112', '113', '114', '115', '116', '117', '118', '119',\n",
    "    '121', '122', '123', '124', '200', '201', '202', '203', '205', '207',\n",
    "    '208', '209', '210', '212', '213', '214', '215', '217', '219', '220',\n",
    "    '221', '222', '223', '228', '230', '231', '232', '233', '234'\n",
    "]\n",
    "\n",
    "local_path = '/home/joaovfg/PFC-WPW/mit-bih-arrhythmia-database-1.0.0/'\n",
    "\n",
    "for reg in registros:\n",
    "    try:\n",
    "        record = rdrecord(os.path.join(local_path, reg))\n",
    "        canais = record.sig_name\n",
    "        print(f'Registro {reg}: Canais disponíveis -> {canais}')\n",
    "    except Exception as e:\n",
    "        print(f'Erro ao carregar registro {reg}: {e}')"
   ]
  },
  {
   "cell_type": "markdown",
   "id": "2d9d0cf7",
   "metadata": {},
   "source": [
    "## 4. Processamento de Registros com Canal MLII\n",
    "\n",
    "Verifica-se se o canal MLII está presente em cada registro e carrega-se apenas esse canal, caso disponível."
   ]
  },
  {
   "cell_type": "code",
   "execution_count": 5,
   "id": "053ee1d5",
   "metadata": {},
   "outputs": [
    {
     "name": "stdout",
     "output_type": "stream",
     "text": [
      "Registro 100 carregado com canal MLII (índice 0).\n",
      "Registro 101 carregado com canal MLII (índice 0).\n",
      "Registro 102 ignorado: canal MLII não encontrado.\n",
      "Registro 103 carregado com canal MLII (índice 0).\n",
      "Registro 104 ignorado: canal MLII não encontrado.\n",
      "Registro 105 carregado com canal MLII (índice 0).\n",
      "Registro 106 carregado com canal MLII (índice 0).\n",
      "Registro 107 carregado com canal MLII (índice 0).\n",
      "Registro 108 carregado com canal MLII (índice 0).\n",
      "Registro 109 carregado com canal MLII (índice 0).\n",
      "Registro 111 carregado com canal MLII (índice 0).\n",
      "Registro 112 carregado com canal MLII (índice 0).\n",
      "Registro 113 carregado com canal MLII (índice 0).\n",
      "Registro 114 carregado com canal MLII (índice 1).\n",
      "Registro 115 carregado com canal MLII (índice 0).\n",
      "Registro 116 carregado com canal MLII (índice 0).\n",
      "Registro 117 carregado com canal MLII (índice 0).\n",
      "Registro 118 carregado com canal MLII (índice 0).\n",
      "Registro 119 carregado com canal MLII (índice 0).\n",
      "Registro 121 carregado com canal MLII (índice 0).\n",
      "Registro 122 carregado com canal MLII (índice 0).\n",
      "Registro 123 carregado com canal MLII (índice 0).\n",
      "Registro 124 carregado com canal MLII (índice 0).\n",
      "Registro 200 carregado com canal MLII (índice 0).\n",
      "Registro 201 carregado com canal MLII (índice 0).\n",
      "Registro 202 carregado com canal MLII (índice 0).\n",
      "Registro 203 carregado com canal MLII (índice 0).\n",
      "Registro 205 carregado com canal MLII (índice 0).\n",
      "Registro 207 carregado com canal MLII (índice 0).\n",
      "Registro 208 carregado com canal MLII (índice 0).\n",
      "Registro 209 carregado com canal MLII (índice 0).\n",
      "Registro 210 carregado com canal MLII (índice 0).\n",
      "Registro 212 carregado com canal MLII (índice 0).\n",
      "Registro 213 carregado com canal MLII (índice 0).\n",
      "Registro 214 carregado com canal MLII (índice 0).\n",
      "Registro 215 carregado com canal MLII (índice 0).\n",
      "Registro 217 carregado com canal MLII (índice 0).\n",
      "Registro 219 carregado com canal MLII (índice 0).\n",
      "Registro 220 carregado com canal MLII (índice 0).\n",
      "Registro 221 carregado com canal MLII (índice 0).\n",
      "Registro 222 carregado com canal MLII (índice 0).\n",
      "Registro 223 carregado com canal MLII (índice 0).\n",
      "Registro 228 carregado com canal MLII (índice 0).\n",
      "Registro 230 carregado com canal MLII (índice 0).\n",
      "Registro 231 carregado com canal MLII (índice 0).\n",
      "Registro 232 carregado com canal MLII (índice 0).\n",
      "Registro 233 carregado com canal MLII (índice 0).\n",
      "Registro 234 carregado com canal MLII (índice 0).\n"
     ]
    }
   ],
   "source": [
    "# Dicionário para armazenar registros com canal MLII\n",
    "registros_com_mlII = {}\n",
    "\n",
    "# Primeiro, carregamos os registros com canal MLII\n",
    "for reg in registros:\n",
    "    try:\n",
    "        record = rdrecord(os.path.join(local_path, reg), channels=None)\n",
    "        canais = record.sig_name\n",
    "\n",
    "        # Verifica se o canal MLII está presente\n",
    "        if 'MLII' not in canais:\n",
    "            print(f\"Registro {reg} ignorado: canal MLII não encontrado.\")\n",
    "            continue\n",
    "\n",
    "        idx_mlII = canais.index('MLII')\n",
    "        record_mlII = rdrecord(os.path.join(local_path, reg), channels=[idx_mlII])\n",
    "\n",
    "        registros_com_mlII[reg] = record_mlII\n",
    "        print(f\"Registro {reg} carregado com canal MLII (índice {idx_mlII}).\")\n",
    "\n",
    "    except Exception as e:\n",
    "        print(f\"Erro ao processar registro {reg}: {e}\")"
   ]
  },
  {
   "cell_type": "markdown",
   "id": "358d49d8",
   "metadata": {},
   "source": [
    "## 5. Tratamento de registros com morfologias atípicas e ritmos acelerados\n",
    "\n",
    "Os registros 108,111 e 124 possuem morfologias atípicas, enquanto os registros 200, 203 e 207 possuem o mesmo com ritmos acelerados, o que atrapalha na segmentação dos sinais."
   ]
  },
  {
   "cell_type": "code",
   "execution_count": 6,
   "id": "f4235931",
   "metadata": {},
   "outputs": [
    {
     "name": "stdout",
     "output_type": "stream",
     "text": [
      "Registro 100 mantido após verificação.\n",
      "Registro 101 mantido após verificação.\n",
      "Registro 103 mantido após verificação.\n",
      "Registro 105 mantido após verificação.\n",
      "Registro 106 mantido após verificação.\n",
      "Registro 107 mantido após verificação.\n",
      "Registro 108 excluído devido a morfologias atípicas ou ritmos acelerados.\n",
      "Registro 109 mantido após verificação.\n",
      "Registro 111 excluído devido a morfologias atípicas ou ritmos acelerados.\n",
      "Registro 112 mantido após verificação.\n",
      "Registro 113 mantido após verificação.\n",
      "Registro 114 mantido após verificação.\n",
      "Registro 115 mantido após verificação.\n",
      "Registro 116 mantido após verificação.\n",
      "Registro 117 mantido após verificação.\n",
      "Registro 118 mantido após verificação.\n",
      "Registro 119 mantido após verificação.\n",
      "Registro 121 mantido após verificação.\n",
      "Registro 122 mantido após verificação.\n",
      "Registro 123 mantido após verificação.\n",
      "Registro 124 excluído devido a morfologias atípicas ou ritmos acelerados.\n",
      "Registro 200 excluído devido a morfologias atípicas ou ritmos acelerados.\n",
      "Registro 201 mantido após verificação.\n",
      "Registro 202 mantido após verificação.\n",
      "Registro 203 excluído devido a morfologias atípicas ou ritmos acelerados.\n",
      "Registro 205 mantido após verificação.\n",
      "Registro 207 excluído devido a morfologias atípicas ou ritmos acelerados.\n",
      "Registro 208 mantido após verificação.\n",
      "Registro 209 mantido após verificação.\n",
      "Registro 210 mantido após verificação.\n",
      "Registro 212 mantido após verificação.\n",
      "Registro 213 mantido após verificação.\n",
      "Registro 214 mantido após verificação.\n",
      "Registro 215 mantido após verificação.\n",
      "Registro 217 mantido após verificação.\n",
      "Registro 219 mantido após verificação.\n",
      "Registro 220 mantido após verificação.\n",
      "Registro 221 mantido após verificação.\n",
      "Registro 222 mantido após verificação.\n",
      "Registro 223 mantido após verificação.\n",
      "Registro 228 mantido após verificação.\n",
      "Registro 230 mantido após verificação.\n",
      "Registro 231 mantido após verificação.\n",
      "Registro 232 mantido após verificação.\n",
      "Registro 233 mantido após verificação.\n",
      "Registro 234 mantido após verificação.\n"
     ]
    }
   ],
   "source": [
    "# Registros a serem excluídos devido a morfologias atípicas e ritmos acelerados\n",
    "registros_excluir = ['108', '111', '124', '200', '203', '207']\n",
    "\n",
    "# Lista para armazenar os registros filtrados\n",
    "registros_filtrados_com_mlII = {}\n",
    "\n",
    "# Agora, verificamos e removemos os registros a serem excluídos\n",
    "for reg, record in registros_com_mlII.items():\n",
    "    if reg in registros_excluir:\n",
    "        print(f\"Registro {reg} excluído devido a morfologias atípicas ou ritmos acelerados.\")\n",
    "        continue  # Exclui o registro\n",
    "\n",
    "    # Se o registro não for excluído, é armazenado na lista de registros filtrados\n",
    "    registros_filtrados_com_mlII[reg] = record\n",
    "    print(f\"Registro {reg} mantido após verificação.\")\n"
   ]
  },
  {
   "cell_type": "markdown",
   "id": "42dd126f",
   "metadata": {},
   "source": [
    "## 5. Extração de batimentos e classes\n",
    "\n",
    "Extraímos os batimentos cardíacos dos registros, classificando-os em duas categorias:\n",
    "- **0**: Batimentos não relacionados ao WPW.\n",
    "- **1**: Batimentos relacionados ao WPW.\n",
    "\n",
    "Essa classificação é feita com base nas anotações dos registros.\n"
   ]
  },
  {
   "cell_type": "code",
   "execution_count": 7,
   "id": "4d066642",
   "metadata": {},
   "outputs": [
    {
     "name": "stdout",
     "output_type": "stream",
     "text": [
      "Registro 100: 2274 anotações lidas, 2273 relevantes.\n",
      "Registro 101: 1874 anotações lidas, 1863 relevantes.\n",
      "Registro 103: 2091 anotações lidas, 2084 relevantes.\n",
      "Registro 105: 2691 anotações lidas, 2567 relevantes.\n",
      "Registro 106: 2098 anotações lidas, 2027 relevantes.\n",
      "Registro 107: 2140 anotações lidas, 2137 relevantes.\n",
      "Registro 109: 2535 anotações lidas, 2532 relevantes.\n",
      "Registro 112: 2550 anotações lidas, 2539 relevantes.\n",
      "Registro 113: 1796 anotações lidas, 1795 relevantes.\n",
      "Registro 114: 1890 anotações lidas, 1877 relevantes.\n",
      "Registro 115: 1962 anotações lidas, 1953 relevantes.\n",
      "Registro 116: 2421 anotações lidas, 2412 relevantes.\n",
      "Registro 117: 1539 anotações lidas, 1535 relevantes.\n",
      "Registro 118: 2301 anotações lidas, 2278 relevantes.\n",
      "Registro 119: 2094 anotações lidas, 1987 relevantes.\n",
      "Registro 121: 1876 anotações lidas, 1863 relevantes.\n",
      "Registro 122: 2479 anotações lidas, 2476 relevantes.\n",
      "Registro 123: 1519 anotações lidas, 1518 relevantes.\n",
      "Registro 201: 2039 anotações lidas, 1962 relevantes.\n",
      "Registro 202: 2146 anotações lidas, 2136 relevantes.\n",
      "Registro 205: 2672 anotações lidas, 2656 relevantes.\n",
      "Registro 208: 3040 anotações lidas, 2951 relevantes.\n",
      "Registro 209: 3052 anotações lidas, 3005 relevantes.\n",
      "Registro 210: 2685 anotações lidas, 2649 relevantes.\n",
      "Registro 212: 2763 anotações lidas, 2748 relevantes.\n",
      "Registro 213: 3294 anotações lidas, 3251 relevantes.\n",
      "Registro 214: 2297 anotações lidas, 2260 relevantes.\n",
      "Registro 215: 3400 anotações lidas, 3363 relevantes.\n",
      "Registro 217: 2280 anotações lidas, 2208 relevantes.\n",
      "Registro 219: 2312 anotações lidas, 2154 relevantes.\n",
      "Registro 220: 2069 anotações lidas, 2048 relevantes.\n",
      "Registro 221: 2462 anotações lidas, 2427 relevantes.\n",
      "Registro 222: 2634 anotações lidas, 2482 relevantes.\n",
      "Registro 223: 2643 anotações lidas, 2589 relevantes.\n",
      "Registro 228: 2141 anotações lidas, 2053 relevantes.\n",
      "Registro 230: 2466 anotações lidas, 2256 relevantes.\n",
      "Registro 231: 2011 anotações lidas, 1571 relevantes.\n",
      "Registro 232: 1816 anotações lidas, 1780 relevantes.\n",
      "Registro 233: 3152 anotações lidas, 3079 relevantes.\n",
      "Registro 234: 2764 anotações lidas, 2703 relevantes.\n",
      "\n",
      "Total de amostras relevantes:\n",
      "Classe 0 (Não WPW): 91132 batimentos\n",
      "Classe 1 (WPW): 915 batimentos\n",
      "Total de batimentos: 92047\n"
     ]
    }
   ],
   "source": [
    "nao_wpw_labels = ['N', 'R', 'L', 'f', 'F', '/', 'V', 'A', 'a', 'j']\n",
    "wpw_label = '*'\n",
    "\n",
    "batimentos = []\n",
    "\n",
    "# Inicializa os contadores\n",
    "contagem_nao_wpw = 0\n",
    "contagem_wpw = 0\n",
    "\n",
    "for reg, record in registros_filtrados_com_mlII.items():\n",
    "    try:\n",
    "        atr_path = os.path.join(local_path, f\"{reg}_modified\")\n",
    "        if not os.path.exists(f\"{atr_path}.atr\"):\n",
    "            atr_path = os.path.join(local_path, reg)\n",
    "\n",
    "        annotation = wfdb.rdann(atr_path, 'atr')\n",
    "\n",
    "        for idx, symbol in enumerate(annotation.symbol):\n",
    "            if symbol in nao_wpw_labels:\n",
    "                batimentos.append({\n",
    "                    'record': reg,\n",
    "                    'sample': annotation.sample[idx],\n",
    "                    'symbol': symbol,\n",
    "                    'class': 0  # Não WPW\n",
    "                })\n",
    "                contagem_nao_wpw += 1  # Incrementa a contagem de batimentos não WPW\n",
    "            elif symbol == wpw_label:\n",
    "                batimentos.append({\n",
    "                    'record': reg,\n",
    "                    'sample': annotation.sample[idx],\n",
    "                    'symbol': symbol,\n",
    "                    'class': 1  # WPW\n",
    "                })\n",
    "                contagem_wpw += 1  # Incrementa a contagem de batimentos WPW\n",
    "\n",
    "        print(f\"Registro {reg}: {len(annotation.sample)} anotações lidas, {len([b for b in batimentos if b['record'] == reg])} relevantes.\")\n",
    "\n",
    "    except Exception as e:\n",
    "        print(f\"Erro ao ler anotações do registro {reg}: {e}\")\n",
    "\n",
    "# Exibe o total de amostras relevantes por classe\n",
    "print(f\"\\nTotal de amostras relevantes:\")\n",
    "print(f\"Classe 0 (Não WPW): {contagem_nao_wpw} batimentos\")\n",
    "print(f\"Classe 1 (WPW): {contagem_wpw} batimentos\")\n",
    "\n",
    "# Exibe o total geral\n",
    "total_batimentos = contagem_nao_wpw + contagem_wpw\n",
    "print(f\"Total de batimentos: {total_batimentos}\")\n"
   ]
  },
  {
   "cell_type": "markdown",
   "id": "43269931",
   "metadata": {},
   "source": [
    "## 6. Criação do DataFrame e Salvamento em CSV\n",
    "\n",
    "Após extrair os batimentos e suas classes, adiciona-se a coluna \"channel\" para indicar o canal de ECG utilizado (MLII). Em seguida, cria-se um DataFrame e salva-se os dados em um arquivo CSV.\n"
   ]
  },
  {
   "cell_type": "code",
   "execution_count": 8,
   "id": "2fdae498",
   "metadata": {},
   "outputs": [
    {
     "name": "stdout",
     "output_type": "stream",
     "text": [
      "      record  sample symbol channel  class\n",
      "0        100      77      N    MLII      0\n",
      "1        100     370      N    MLII      0\n",
      "2        100     662      N    MLII      0\n",
      "3        100     946      N    MLII      0\n",
      "4        100    1231      N    MLII      0\n",
      "...      ...     ...    ...     ...    ...\n",
      "92042    234  648797      N    MLII      0\n",
      "92043    234  649040      N    MLII      0\n",
      "92044    234  649292      N    MLII      0\n",
      "92045    234  649536      N    MLII      0\n",
      "92046    234  649772      N    MLII      0\n",
      "\n",
      "[92047 rows x 5 columns]\n"
     ]
    }
   ],
   "source": [
    "# Adiciona a coluna 'channel'\n",
    "for b in batimentos:\n",
    "    b['channel'] = 'MLII'\n",
    "\n",
    "# Cria o DataFrame\n",
    "df_batimentos = pd.DataFrame(batimentos, columns=['record', 'sample', 'symbol', 'channel', 'class'])\n",
    "\n",
    "# Exibe o DataFrame no console\n",
    "print(df_batimentos)"
   ]
  },
  {
   "cell_type": "code",
   "execution_count": 9,
   "id": "4c1927a7",
   "metadata": {},
   "outputs": [
    {
     "name": "stdout",
     "output_type": "stream",
     "text": [
      "Arquivo 'batimentos_filtrados.csv' salvo com sucesso.\n"
     ]
    }
   ],
   "source": [
    "# Salva o DataFrame em um arquivo CSV\n",
    "df_batimentos.to_csv('/home/joaovfg/PFC-WPW/csv/batimentos_filtrados.csv', index=False)\n",
    "print(\"Arquivo 'batimentos_filtrados.csv' salvo com sucesso.\")"
   ]
  },
  {
   "cell_type": "markdown",
   "id": "d606ead2",
   "metadata": {},
   "source": [
    "# Segmentação e normalização dos registros "
   ]
  },
  {
   "cell_type": "code",
   "execution_count": 10,
   "id": "2a6e8895",
   "metadata": {},
   "outputs": [],
   "source": [
    "# Configurações da janela de segmentação\n",
    "window_left = 76\n",
    "window_right = 140\n",
    "segment_length = window_left + window_right\n",
    "\n",
    "# Caminhos principais\n",
    "local_path = '/home/joaovfg/PFC-WPW/mit-bih-arrhythmia-database-1.0.0/'\n",
    "output_base_path = '/home/joaovfg/PFC-WPW/mit-bih-segmented-signals/'"
   ]
  },
  {
   "cell_type": "code",
   "execution_count": 12,
   "id": "81c6e5b2",
   "metadata": {},
   "outputs": [
    {
     "name": "stderr",
     "output_type": "stream",
     "text": [
      "Segmentando batimentos:   0%|          | 176/92047 [00:00<01:30, 1017.02it/s]"
     ]
    },
    {
     "name": "stdout",
     "output_type": "stream",
     "text": [
      "\n",
      "Segmentando registro 100...\n"
     ]
    },
    {
     "name": "stderr",
     "output_type": "stream",
     "text": [
      "Segmentando batimentos:   3%|▎         | 2468/92047 [00:01<00:57, 1553.17it/s]"
     ]
    },
    {
     "name": "stdout",
     "output_type": "stream",
     "text": [
      "Amostra fora dos limites em 100, sample 649991\n",
      "\n",
      "Segmentando registro 101...\n"
     ]
    },
    {
     "name": "stderr",
     "output_type": "stream",
     "text": [
      "Segmentando batimentos:   5%|▍         | 4447/92047 [00:02<00:58, 1493.21it/s]"
     ]
    },
    {
     "name": "stdout",
     "output_type": "stream",
     "text": [
      "\n",
      "Segmentando registro 103...\n"
     ]
    },
    {
     "name": "stderr",
     "output_type": "stream",
     "text": [
      "Segmentando batimentos:   7%|▋         | 6464/92047 [00:03<00:51, 1658.78it/s]"
     ]
    },
    {
     "name": "stdout",
     "output_type": "stream",
     "text": [
      "Amostra fora dos limites em 103, sample 649875\n",
      "\n",
      "Segmentando registro 105...\n"
     ]
    },
    {
     "name": "stderr",
     "output_type": "stream",
     "text": [
      "Segmentando batimentos:  10%|▉         | 9038/92047 [00:05<00:48, 1716.14it/s]"
     ]
    },
    {
     "name": "stdout",
     "output_type": "stream",
     "text": [
      "\n",
      "Segmentando registro 106...\n"
     ]
    },
    {
     "name": "stderr",
     "output_type": "stream",
     "text": [
      "Segmentando batimentos:  12%|█▏        | 11044/92047 [00:06<00:51, 1579.83it/s]"
     ]
    },
    {
     "name": "stdout",
     "output_type": "stream",
     "text": [
      "\n",
      "Segmentando registro 107...\n"
     ]
    },
    {
     "name": "stderr",
     "output_type": "stream",
     "text": [
      "Segmentando batimentos:  14%|█▍        | 13262/92047 [00:07<00:45, 1713.11it/s]"
     ]
    },
    {
     "name": "stdout",
     "output_type": "stream",
     "text": [
      "\n",
      "Segmentando registro 109...\n"
     ]
    },
    {
     "name": "stderr",
     "output_type": "stream",
     "text": [
      "Segmentando batimentos:  17%|█▋        | 15704/92047 [00:09<00:49, 1547.35it/s]"
     ]
    },
    {
     "name": "stdout",
     "output_type": "stream",
     "text": [
      "Amostra fora dos limites em 109, sample 649931\n",
      "\n",
      "Segmentando registro 112...\n"
     ]
    },
    {
     "name": "stderr",
     "output_type": "stream",
     "text": [
      "Segmentando batimentos:  20%|█▉        | 18101/92047 [00:10<00:48, 1527.68it/s]"
     ]
    },
    {
     "name": "stdout",
     "output_type": "stream",
     "text": [
      "Amostra fora dos limites em 112, sample 649883\n",
      "\n",
      "Segmentando registro 113...\n"
     ]
    },
    {
     "name": "stderr",
     "output_type": "stream",
     "text": [
      "Segmentando batimentos:  22%|██▏       | 19991/92047 [00:11<00:47, 1527.23it/s]"
     ]
    },
    {
     "name": "stdout",
     "output_type": "stream",
     "text": [
      "Amostra fora dos limites em 113, sample 649994\n",
      "\n",
      "Segmentando registro 114...\n"
     ]
    },
    {
     "name": "stderr",
     "output_type": "stream",
     "text": [
      "Segmentando batimentos:  24%|██▍       | 21975/92047 [00:13<00:41, 1670.91it/s]"
     ]
    },
    {
     "name": "stdout",
     "output_type": "stream",
     "text": [
      "\n",
      "Segmentando registro 115...\n"
     ]
    },
    {
     "name": "stderr",
     "output_type": "stream",
     "text": [
      "Segmentando batimentos:  26%|██▌       | 23821/92047 [00:14<00:43, 1570.61it/s]"
     ]
    },
    {
     "name": "stdout",
     "output_type": "stream",
     "text": [
      "Amostra fora dos limites em 115, sample 649955\n",
      "\n",
      "Segmentando registro 116...\n"
     ]
    },
    {
     "name": "stderr",
     "output_type": "stream",
     "text": [
      "Segmentando batimentos:  29%|██▊       | 26236/92047 [00:15<00:42, 1540.11it/s]"
     ]
    },
    {
     "name": "stdout",
     "output_type": "stream",
     "text": [
      "Amostra fora dos limites em 116, sample 649957\n",
      "\n",
      "Segmentando registro 117...\n"
     ]
    },
    {
     "name": "stderr",
     "output_type": "stream",
     "text": [
      "Segmentando batimentos:  30%|███       | 27647/92047 [00:16<00:46, 1384.45it/s]"
     ]
    },
    {
     "name": "stdout",
     "output_type": "stream",
     "text": [
      "Amostra fora dos limites em 117, sample 649926\n",
      "\n",
      "Segmentando registro 118...\n",
      "Amostra fora dos limites em 118, sample 68\n"
     ]
    },
    {
     "name": "stderr",
     "output_type": "stream",
     "text": [
      "Segmentando batimentos:  33%|███▎      | 30129/92047 [00:18<00:38, 1603.93it/s]"
     ]
    },
    {
     "name": "stdout",
     "output_type": "stream",
     "text": [
      "\n",
      "Segmentando registro 119...\n"
     ]
    },
    {
     "name": "stderr",
     "output_type": "stream",
     "text": [
      "Segmentando batimentos:  35%|███▌      | 32220/92047 [00:19<00:34, 1722.98it/s]"
     ]
    },
    {
     "name": "stdout",
     "output_type": "stream",
     "text": [
      "\n",
      "Segmentando registro 121...\n"
     ]
    },
    {
     "name": "stderr",
     "output_type": "stream",
     "text": [
      "Segmentando batimentos:  37%|███▋      | 33869/92047 [00:20<00:32, 1796.54it/s]"
     ]
    },
    {
     "name": "stdout",
     "output_type": "stream",
     "text": [
      "Amostra fora dos limites em 121, sample 649878\n",
      "\n",
      "Segmentando registro 122...\n"
     ]
    },
    {
     "name": "stderr",
     "output_type": "stream",
     "text": [
      "Segmentando batimentos:  40%|███▉      | 36435/92047 [00:21<00:29, 1881.81it/s]"
     ]
    },
    {
     "name": "stdout",
     "output_type": "stream",
     "text": [
      "Amostra fora dos limites em 122, sample 649905\n",
      "\n",
      "Segmentando registro 123...\n",
      "Amostra fora dos limites em 123, sample 70\n"
     ]
    },
    {
     "name": "stderr",
     "output_type": "stream",
     "text": [
      "Segmentando batimentos:  41%|████▏     | 38087/92047 [00:22<00:28, 1867.99it/s]"
     ]
    },
    {
     "name": "stdout",
     "output_type": "stream",
     "text": [
      "\n",
      "Segmentando registro 201...\n"
     ]
    },
    {
     "name": "stderr",
     "output_type": "stream",
     "text": [
      "Segmentando batimentos:  43%|████▎     | 39956/92047 [00:23<00:29, 1785.71it/s]"
     ]
    },
    {
     "name": "stdout",
     "output_type": "stream",
     "text": [
      "\n",
      "Segmentando registro 202...\n"
     ]
    },
    {
     "name": "stderr",
     "output_type": "stream",
     "text": [
      "Segmentando batimentos:  46%|████▌     | 42020/92047 [00:24<00:27, 1818.37it/s]"
     ]
    },
    {
     "name": "stdout",
     "output_type": "stream",
     "text": [
      "Amostra fora dos limites em 202, sample 649877\n",
      "\n",
      "Segmentando registro 205...\n"
     ]
    },
    {
     "name": "stderr",
     "output_type": "stream",
     "text": [
      "Segmentando batimentos:  49%|████▊     | 44743/92047 [00:25<00:25, 1848.74it/s]"
     ]
    },
    {
     "name": "stdout",
     "output_type": "stream",
     "text": [
      "\n",
      "Segmentando registro 208...\n",
      "Amostra fora dos limites em 208, sample 46\n"
     ]
    },
    {
     "name": "stderr",
     "output_type": "stream",
     "text": [
      "Segmentando batimentos:  52%|█████▏    | 47667/92047 [00:27<00:23, 1855.30it/s]"
     ]
    },
    {
     "name": "stdout",
     "output_type": "stream",
     "text": [
      "Amostra fora dos limites em 208, sample 649935\n",
      "\n",
      "Segmentando registro 209...\n"
     ]
    },
    {
     "name": "stderr",
     "output_type": "stream",
     "text": [
      "Segmentando batimentos:  55%|█████▌    | 50651/92047 [00:28<00:21, 1917.49it/s]"
     ]
    },
    {
     "name": "stdout",
     "output_type": "stream",
     "text": [
      "\n",
      "Segmentando registro 210...\n",
      "Amostra fora dos limites em 210, sample 57\n"
     ]
    },
    {
     "name": "stderr",
     "output_type": "stream",
     "text": [
      "Segmentando batimentos:  58%|█████▊    | 53210/92047 [00:29<00:21, 1814.32it/s]"
     ]
    },
    {
     "name": "stdout",
     "output_type": "stream",
     "text": [
      "Amostra fora dos limites em 210, sample 649962\n",
      "\n",
      "Segmentando registro 212...\n"
     ]
    },
    {
     "name": "stderr",
     "output_type": "stream",
     "text": [
      "Segmentando batimentos:  61%|██████    | 55951/92047 [00:31<00:20, 1777.93it/s]"
     ]
    },
    {
     "name": "stdout",
     "output_type": "stream",
     "text": [
      "Amostra fora dos limites em 212, sample 649945\n",
      "\n",
      "Segmentando registro 213...\n"
     ]
    },
    {
     "name": "stderr",
     "output_type": "stream",
     "text": [
      "Segmentando batimentos:  64%|██████▍   | 59323/92047 [00:32<00:17, 1854.21it/s]"
     ]
    },
    {
     "name": "stdout",
     "output_type": "stream",
     "text": [
      "Amostra fora dos limites em 213, sample 649992\n",
      "\n",
      "Segmentando registro 214...\n",
      "Amostra fora dos limites em 214, sample 58\n"
     ]
    },
    {
     "name": "stderr",
     "output_type": "stream",
     "text": [
      "Segmentando batimentos:  67%|██████▋   | 61615/92047 [00:34<00:16, 1878.57it/s]"
     ]
    },
    {
     "name": "stdout",
     "output_type": "stream",
     "text": [
      "Amostra fora dos limites em 214, sample 649891\n",
      "\n",
      "Segmentando registro 215...\n"
     ]
    },
    {
     "name": "stderr",
     "output_type": "stream",
     "text": [
      "Segmentando batimentos:  70%|███████   | 64872/92047 [00:35<00:14, 1877.53it/s]"
     ]
    },
    {
     "name": "stdout",
     "output_type": "stream",
     "text": [
      "Amostra fora dos limites em 215, sample 649875\n",
      "\n",
      "Segmentando registro 217...\n"
     ]
    },
    {
     "name": "stderr",
     "output_type": "stream",
     "text": [
      "Segmentando batimentos:  73%|███████▎  | 67302/92047 [00:37<00:13, 1790.50it/s]"
     ]
    },
    {
     "name": "stdout",
     "output_type": "stream",
     "text": [
      "\n",
      "Segmentando registro 219...\n"
     ]
    },
    {
     "name": "stderr",
     "output_type": "stream",
     "text": [
      "Segmentando batimentos:  75%|███████▌  | 69367/92047 [00:38<00:12, 1835.23it/s]"
     ]
    },
    {
     "name": "stdout",
     "output_type": "stream",
     "text": [
      "\n",
      "Segmentando registro 220...\n",
      "Amostra fora dos limites em 220, sample 28\n"
     ]
    },
    {
     "name": "stderr",
     "output_type": "stream",
     "text": [
      "Segmentando batimentos:  77%|███████▋  | 71252/92047 [00:39<00:11, 1749.79it/s]"
     ]
    },
    {
     "name": "stdout",
     "output_type": "stream",
     "text": [
      "Amostra fora dos limites em 220, sample 649904\n",
      "\n",
      "Segmentando registro 221...\n"
     ]
    },
    {
     "name": "stderr",
     "output_type": "stream",
     "text": [
      "Segmentando batimentos:  80%|████████  | 73853/92047 [00:40<00:10, 1805.49it/s]"
     ]
    },
    {
     "name": "stdout",
     "output_type": "stream",
     "text": [
      "\n",
      "Segmentando registro 222...\n"
     ]
    },
    {
     "name": "stderr",
     "output_type": "stream",
     "text": [
      "Segmentando batimentos:  83%|████████▎ | 76398/92047 [00:41<00:08, 1885.23it/s]"
     ]
    },
    {
     "name": "stdout",
     "output_type": "stream",
     "text": [
      "\n",
      "Segmentando registro 223...\n"
     ]
    },
    {
     "name": "stderr",
     "output_type": "stream",
     "text": [
      "Segmentando batimentos:  86%|████████▌ | 78878/92047 [00:43<00:07, 1792.78it/s]"
     ]
    },
    {
     "name": "stdout",
     "output_type": "stream",
     "text": [
      "\n",
      "Segmentando registro 228...\n"
     ]
    },
    {
     "name": "stderr",
     "output_type": "stream",
     "text": [
      "Segmentando batimentos:  88%|████████▊ | 80948/92047 [00:44<00:05, 1881.66it/s]"
     ]
    },
    {
     "name": "stdout",
     "output_type": "stream",
     "text": [
      "\n",
      "Segmentando registro 230...\n",
      "Amostra fora dos limites em 230, sample 75\n"
     ]
    },
    {
     "name": "stderr",
     "output_type": "stream",
     "text": [
      "Segmentando batimentos:  90%|█████████ | 83268/92047 [00:45<00:04, 1768.45it/s]"
     ]
    },
    {
     "name": "stdout",
     "output_type": "stream",
     "text": [
      "\n",
      "Segmentando registro 231...\n"
     ]
    },
    {
     "name": "stderr",
     "output_type": "stream",
     "text": [
      "Segmentando batimentos:  92%|█████████▏| 84693/92047 [00:46<00:04, 1810.81it/s]"
     ]
    },
    {
     "name": "stdout",
     "output_type": "stream",
     "text": [
      "Amostra fora dos limites em 231, sample 649862\n",
      "\n",
      "Segmentando registro 232...\n"
     ]
    },
    {
     "name": "stderr",
     "output_type": "stream",
     "text": [
      "Segmentando batimentos:  94%|█████████▍| 86567/92047 [00:47<00:02, 1863.88it/s]"
     ]
    },
    {
     "name": "stdout",
     "output_type": "stream",
     "text": [
      "\n",
      "Segmentando registro 233...\n",
      "Amostra fora dos limites em 233, sample 42\n"
     ]
    },
    {
     "name": "stderr",
     "output_type": "stream",
     "text": [
      "Segmentando batimentos:  97%|█████████▋| 89584/92047 [00:48<00:01, 1726.41it/s]"
     ]
    },
    {
     "name": "stdout",
     "output_type": "stream",
     "text": [
      "Amostra fora dos limites em 233, sample 649946\n",
      "\n",
      "Segmentando registro 234...\n"
     ]
    },
    {
     "name": "stderr",
     "output_type": "stream",
     "text": [
      "Segmentando batimentos: 100%|██████████| 92047/92047 [00:49<00:00, 1847.34it/s]"
     ]
    },
    {
     "name": "stdout",
     "output_type": "stream",
     "text": [
      "\n",
      "Resumo de segmentos por registro:\n",
      "  Registro 100: 2272 segmentos\n",
      "  Registro 101: 1863 segmentos\n",
      "  Registro 103: 2083 segmentos\n",
      "  Registro 105: 2567 segmentos\n",
      "  Registro 106: 2027 segmentos\n",
      "  Registro 107: 2137 segmentos\n",
      "  Registro 109: 2531 segmentos\n",
      "  Registro 112: 2538 segmentos\n",
      "  Registro 113: 1794 segmentos\n",
      "  Registro 114: 1877 segmentos\n",
      "  Registro 115: 1952 segmentos\n",
      "  Registro 116: 2411 segmentos\n",
      "  Registro 117: 1534 segmentos\n",
      "  Registro 118: 2277 segmentos\n",
      "  Registro 119: 1987 segmentos\n",
      "  Registro 121: 1862 segmentos\n",
      "  Registro 122: 2475 segmentos\n",
      "  Registro 123: 1517 segmentos\n",
      "  Registro 201: 1962 segmentos\n",
      "  Registro 202: 2135 segmentos\n",
      "  Registro 205: 2656 segmentos\n",
      "  Registro 208: 2949 segmentos\n",
      "  Registro 209: 3005 segmentos\n",
      "  Registro 210: 2647 segmentos\n",
      "  Registro 212: 2747 segmentos\n",
      "  Registro 213: 3250 segmentos\n",
      "  Registro 214: 2258 segmentos\n",
      "  Registro 215: 3362 segmentos\n",
      "  Registro 217: 2208 segmentos\n",
      "  Registro 219: 2154 segmentos\n",
      "  Registro 220: 2046 segmentos\n",
      "  Registro 221: 2427 segmentos\n",
      "  Registro 222: 2482 segmentos\n",
      "  Registro 223: 2589 segmentos\n",
      "  Registro 228: 2053 segmentos\n",
      "  Registro 230: 2255 segmentos\n",
      "  Registro 231: 1570 segmentos\n",
      "  Registro 232: 1780 segmentos\n",
      "  Registro 233: 3077 segmentos\n",
      "  Registro 234: 2703 segmentos\n",
      "\n",
      "✅ Segmentação finalizada. Total de segmentos salvos: 92019\n"
     ]
    },
    {
     "name": "stderr",
     "output_type": "stream",
     "text": [
      "\n"
     ]
    }
   ],
   "source": [
    "# Agrupa o carregamento de sinais para não recarregar o mesmo registro várias vezes\n",
    "sinais_cache = {}\n",
    "\n",
    "# Contadores\n",
    "segmentos_por_registro = {}\n",
    "total_segmentos = 0\n",
    "\n",
    "# Itera sobre cada batimento do DataFrame\n",
    "for i, row in tqdm(df_batimentos.iterrows(), total=len(df_batimentos), desc=\"Segmentando batimentos\"):\n",
    "\n",
    "    reg = str(row['record'])\n",
    "    sample = int(row['sample'])\n",
    "    classe = int(row['class'])\n",
    "\n",
    "    # Verifica se está na lista de exclusão\n",
    "    if reg in registros_excluir:\n",
    "        print(f\"Registro {reg} excluído (morfologia ou ritmo inadequado).\")\n",
    "        continue\n",
    "\n",
    "    # Verifica se o sinal já foi carregado\n",
    "    if reg not in sinais_cache:\n",
    "        try:\n",
    "            record_path = os.path.join(local_path, reg)\n",
    "            record = wfdb.rdrecord(record_path)\n",
    "\n",
    "            if 'MLII' not in record.sig_name:\n",
    "                print(f\"Registro {reg} não contém canal MLII. Ignorado.\")\n",
    "                continue\n",
    "\n",
    "            idx_mlII = record.sig_name.index('MLII')\n",
    "            record = wfdb.rdrecord(record_path, channels=[idx_mlII])\n",
    "            sinal = record.p_signal[:, 0]\n",
    "\n",
    "            sinais_cache[reg] = sinal  # Armazena sinal em cache\n",
    "            print(f\"\\nSegmentando registro {reg}...\")\n",
    "        except Exception as e:\n",
    "            print(f\"Erro ao carregar o registro {reg}: {e}\")\n",
    "            continue\n",
    "    else:\n",
    "        sinal = sinais_cache[reg]\n",
    "\n",
    "    # Define janela de interesse\n",
    "    inicio = sample - window_left\n",
    "    fim = sample + window_right\n",
    "\n",
    "    if inicio < 0 or fim > len(sinal):\n",
    "        print(f\"Amostra fora dos limites em {reg}, sample {sample}\")\n",
    "        continue\n",
    "\n",
    "    segmento = sinal[inicio:fim]\n",
    "\n",
    "    # Normaliza\n",
    "    min_val, max_val = np.min(segmento), np.max(segmento)\n",
    "    if max_val - min_val == 0:\n",
    "        print(f\"Amostra com sinal constante em {reg}, sample {sample}\")\n",
    "        continue\n",
    "\n",
    "    segmento_normalizado = (segmento - min_val) / (max_val - min_val)\n",
    "\n",
    "    # Diretório por registro\n",
    "    reg_out_path = os.path.join(output_base_path, reg)\n",
    "    os.makedirs(reg_out_path, exist_ok=True)\n",
    "\n",
    "    # Nome dos arquivos\n",
    "    seg_filename = f'segment_{i:05d}.dat'\n",
    "    label_filename = f'label_{i:05d}.npy'\n",
    "\n",
    "    segmento_path = os.path.join(reg_out_path, seg_filename)\n",
    "    label_path = os.path.join(reg_out_path, label_filename)\n",
    "\n",
    "    # Salva segmento e rótulo\n",
    "    segmento_normalizado.astype('float32').tofile(segmento_path)\n",
    "    np.save(label_path, np.array(classe, dtype='int32'))\n",
    "\n",
    "    # Contagem de segmentos por registro\n",
    "    if reg not in segmentos_por_registro:\n",
    "        segmentos_por_registro[reg] = 0\n",
    "    segmentos_por_registro[reg] += 1\n",
    "    total_segmentos += 1\n",
    "\n",
    "# Resumo por registro\n",
    "print(\"\\nResumo de segmentos por registro:\")\n",
    "for reg, count in segmentos_por_registro.items():\n",
    "    print(f\"  Registro {reg}: {count} segmentos\")\n",
    "\n",
    "print(f\"\\n✅ Segmentação finalizada. Total de segmentos salvos: {total_segmentos}\")\n"
   ]
  }
 ],
 "metadata": {
  "kernelspec": {
   "display_name": "venv",
   "language": "python",
   "name": "python3"
  },
  "language_info": {
   "codemirror_mode": {
    "name": "ipython",
    "version": 3
   },
   "file_extension": ".py",
   "mimetype": "text/x-python",
   "name": "python",
   "nbconvert_exporter": "python",
   "pygments_lexer": "ipython3",
   "version": "3.12.3"
  }
 },
 "nbformat": 4,
 "nbformat_minor": 5
}
