{
 "cells": [
  {
   "cell_type": "markdown",
   "id": "fd43ec97",
   "metadata": {},
   "source": [
    "# Leitura e Pré-processamento dos Registros da Base MIT-BIH\n",
    "\n",
    "Este notebook realiza a leitura, pré-processamento e análise dos registros da base MIT-BIH Arrhythmia Database.\n",
    "\n",
    "## Etapas do processo:\n",
    "1. Carregar e verificar os registros disponíveis.\n",
    "2. Processar os registros com o canal MLII (canal padrão de ECG).\n",
    "3. Extrair os batimentos cardíacos e suas classes.\n",
    "4. Salvar os dados extraídos em um arquivo CSV."
   ]
  },
  {
   "cell_type": "markdown",
   "id": "f34b09a7",
   "metadata": {},
   "source": [
    "## 1. Importação de Bibliotecas\n",
    "\n",
    "- `wfdb`: Para ler os registros de ECG da base MIT-BIH.\n",
    "- `os`: Para manipulação de arquivos e diretórios.\n",
    "- `pandas`: Para organização e manipulação dos dados em DataFrames."
   ]
  },
  {
   "cell_type": "code",
   "execution_count": 1,
   "id": "5e8d4af9",
   "metadata": {},
   "outputs": [],
   "source": [
    "import wfdb\n",
    "from wfdb import rdrecord\n",
    "import os\n",
    "import pandas as pd"
   ]
  },
  {
   "cell_type": "markdown",
   "id": "50292d75",
   "metadata": {},
   "source": [
    "## 2. Definição dos registros, caminho dos Arquivos, iteração sobre os registros e exibição dos canais disponíveis\n",
    "\n",
    "O código irá iterar sobre cada um desses registros e verificar os canais disponíveis.\n"
   ]
  },
  {
   "cell_type": "code",
   "execution_count": null,
   "id": "3b5555e9",
   "metadata": {},
   "outputs": [],
   "source": [
    "registros = [\n",
    "    '100', '101', '102', '103', '104', '105', '106', '107', '108', '109',\n",
    "    '111', '112', '113', '114', '115', '116', '117', '118', '119',\n",
    "    '121', '122', '123', '124', '200', '201', '202', '203', '205', '207',\n",
    "    '208', '209', '210', '212', '213', '214', '215', '217', '219', '220',\n",
    "    '221', '222', '223', '228', '230', '231', '232', '233', '234'\n",
    "]\n",
    "\n",
    "local_path = '/home/joaovfg/PFC-WPW/mit-bih-arrhythmia-database-1.0.0/'\n",
    "\n",
    "for reg in registros:\n",
    "    try:\n",
    "        record = rdrecord(os.path.join(local_path, reg))\n",
    "        canais = record.sig_name\n",
    "        print(f'Registro {reg}: Canais disponíveis -> {canais}')\n",
    "    except Exception as e:\n",
    "        print(f'Erro ao carregar registro {reg}: {e}')"
   ]
  },
  {
   "cell_type": "markdown",
   "id": "2d9d0cf7",
   "metadata": {},
   "source": [
    "## 4. Processamento de Registros com Canal MLII\n",
    "\n",
    "Verifica-se se o canal MLII está presente em cada registro e carrega-se apenas esse canal, caso disponível."
   ]
  },
  {
   "cell_type": "code",
   "execution_count": 13,
   "id": "053ee1d5",
   "metadata": {},
   "outputs": [
    {
     "name": "stdout",
     "output_type": "stream",
     "text": [
      "Registro 100 carregado com canal MLII (índice 0).\n",
      "Registro 101 carregado com canal MLII (índice 0).\n",
      "Registro 102 ignorado: canal MLII não encontrado.\n",
      "Registro 103 carregado com canal MLII (índice 0).\n",
      "Registro 104 ignorado: canal MLII não encontrado.\n",
      "Registro 105 carregado com canal MLII (índice 0).\n",
      "Registro 106 carregado com canal MLII (índice 0).\n",
      "Registro 107 carregado com canal MLII (índice 0).\n",
      "Registro 108 carregado com canal MLII (índice 0).\n",
      "Registro 109 carregado com canal MLII (índice 0).\n",
      "Registro 111 carregado com canal MLII (índice 0).\n",
      "Registro 112 carregado com canal MLII (índice 0).\n",
      "Registro 113 carregado com canal MLII (índice 0).\n",
      "Registro 114 carregado com canal MLII (índice 1).\n",
      "Registro 115 carregado com canal MLII (índice 0).\n",
      "Registro 116 carregado com canal MLII (índice 0).\n",
      "Registro 117 carregado com canal MLII (índice 0).\n",
      "Registro 118 carregado com canal MLII (índice 0).\n",
      "Registro 119 carregado com canal MLII (índice 0).\n",
      "Registro 121 carregado com canal MLII (índice 0).\n",
      "Registro 122 carregado com canal MLII (índice 0).\n",
      "Registro 123 carregado com canal MLII (índice 0).\n",
      "Registro 124 carregado com canal MLII (índice 0).\n",
      "Registro 200 carregado com canal MLII (índice 0).\n",
      "Registro 201 carregado com canal MLII (índice 0).\n",
      "Registro 202 carregado com canal MLII (índice 0).\n",
      "Registro 203 carregado com canal MLII (índice 0).\n",
      "Registro 205 carregado com canal MLII (índice 0).\n",
      "Registro 207 carregado com canal MLII (índice 0).\n",
      "Registro 208 carregado com canal MLII (índice 0).\n",
      "Registro 209 carregado com canal MLII (índice 0).\n",
      "Registro 210 carregado com canal MLII (índice 0).\n",
      "Registro 212 carregado com canal MLII (índice 0).\n",
      "Registro 213 carregado com canal MLII (índice 0).\n",
      "Registro 214 carregado com canal MLII (índice 0).\n",
      "Registro 215 carregado com canal MLII (índice 0).\n",
      "Registro 217 carregado com canal MLII (índice 0).\n",
      "Registro 219 carregado com canal MLII (índice 0).\n",
      "Registro 220 carregado com canal MLII (índice 0).\n",
      "Registro 221 carregado com canal MLII (índice 0).\n",
      "Registro 222 carregado com canal MLII (índice 0).\n",
      "Registro 223 carregado com canal MLII (índice 0).\n",
      "Registro 228 carregado com canal MLII (índice 0).\n",
      "Registro 230 carregado com canal MLII (índice 0).\n",
      "Registro 231 carregado com canal MLII (índice 0).\n",
      "Registro 232 carregado com canal MLII (índice 0).\n",
      "Registro 233 carregado com canal MLII (índice 0).\n",
      "Registro 234 carregado com canal MLII (índice 0).\n"
     ]
    }
   ],
   "source": [
    "# Dicionário para armazenar registros com canal MLII\n",
    "registros_com_mlII = {}\n",
    "\n",
    "# Primeiro, carregamos os registros com canal MLII\n",
    "for reg in registros:\n",
    "    try:\n",
    "        record = rdrecord(os.path.join(local_path, reg), channels=None)\n",
    "        canais = record.sig_name\n",
    "\n",
    "        # Verifica se o canal MLII está presente\n",
    "        if 'MLII' not in canais:\n",
    "            print(f\"Registro {reg} ignorado: canal MLII não encontrado.\")\n",
    "            continue\n",
    "\n",
    "        idx_mlII = canais.index('MLII')\n",
    "        record_mlII = rdrecord(os.path.join(local_path, reg), channels=[idx_mlII])\n",
    "\n",
    "        registros_com_mlII[reg] = record_mlII\n",
    "        print(f\"Registro {reg} carregado com canal MLII (índice {idx_mlII}).\")\n",
    "\n",
    "    except Exception as e:\n",
    "        print(f\"Erro ao processar registro {reg}: {e}\")"
   ]
  },
  {
   "cell_type": "markdown",
   "id": "358d49d8",
   "metadata": {},
   "source": [
    "## 5. Tratamento de registros com morfologias atípicas e ritmos acelerados\n",
    "\n",
    "Os registros 108,111 e 124 possuem morfologias atípicas, enquanto os registros 200, 203 e 207 possuem o mesmo com ritmos acelerados, o que atrapalha na segmentação dos sinais."
   ]
  },
  {
   "cell_type": "code",
   "execution_count": 14,
   "id": "f4235931",
   "metadata": {},
   "outputs": [
    {
     "name": "stdout",
     "output_type": "stream",
     "text": [
      "Registro 100 mantido após verificação.\n",
      "Registro 101 mantido após verificação.\n",
      "Registro 103 mantido após verificação.\n",
      "Registro 105 mantido após verificação.\n",
      "Registro 106 mantido após verificação.\n",
      "Registro 107 mantido após verificação.\n",
      "Registro 108 excluído devido a morfologias atípicas ou ritmos acelerados.\n",
      "Registro 109 mantido após verificação.\n",
      "Registro 111 excluído devido a morfologias atípicas ou ritmos acelerados.\n",
      "Registro 112 mantido após verificação.\n",
      "Registro 113 mantido após verificação.\n",
      "Registro 114 mantido após verificação.\n",
      "Registro 115 mantido após verificação.\n",
      "Registro 116 mantido após verificação.\n",
      "Registro 117 mantido após verificação.\n",
      "Registro 118 mantido após verificação.\n",
      "Registro 119 mantido após verificação.\n",
      "Registro 121 mantido após verificação.\n",
      "Registro 122 mantido após verificação.\n",
      "Registro 123 mantido após verificação.\n",
      "Registro 124 excluído devido a morfologias atípicas ou ritmos acelerados.\n",
      "Registro 200 excluído devido a morfologias atípicas ou ritmos acelerados.\n",
      "Registro 201 mantido após verificação.\n",
      "Registro 202 mantido após verificação.\n",
      "Registro 203 excluído devido a morfologias atípicas ou ritmos acelerados.\n",
      "Registro 205 mantido após verificação.\n",
      "Registro 207 excluído devido a morfologias atípicas ou ritmos acelerados.\n",
      "Registro 208 mantido após verificação.\n",
      "Registro 209 mantido após verificação.\n",
      "Registro 210 mantido após verificação.\n",
      "Registro 212 mantido após verificação.\n",
      "Registro 213 mantido após verificação.\n",
      "Registro 214 mantido após verificação.\n",
      "Registro 215 mantido após verificação.\n",
      "Registro 217 mantido após verificação.\n",
      "Registro 219 mantido após verificação.\n",
      "Registro 220 mantido após verificação.\n",
      "Registro 221 mantido após verificação.\n",
      "Registro 222 mantido após verificação.\n",
      "Registro 223 mantido após verificação.\n",
      "Registro 228 mantido após verificação.\n",
      "Registro 230 mantido após verificação.\n",
      "Registro 231 mantido após verificação.\n",
      "Registro 232 mantido após verificação.\n",
      "Registro 233 mantido após verificação.\n",
      "Registro 234 mantido após verificação.\n"
     ]
    }
   ],
   "source": [
    "# Registros a serem excluídos devido a morfologias atípicas e ritmos acelerados\n",
    "registros_excluir = ['108', '111', '124', '200', '203', '207']\n",
    "\n",
    "# Lista para armazenar os registros filtrados\n",
    "registros_filtrados_com_mlII = {}\n",
    "\n",
    "# Agora, verificamos e removemos os registros a serem excluídos\n",
    "for reg, record in registros_com_mlII.items():\n",
    "    if reg in registros_excluir:\n",
    "        print(f\"Registro {reg} excluído devido a morfologias atípicas ou ritmos acelerados.\")\n",
    "        continue  # Exclui o registro\n",
    "\n",
    "    # Se o registro não for excluído, é armazenado na lista de registros filtrados\n",
    "    registros_filtrados_com_mlII[reg] = record\n",
    "    print(f\"Registro {reg} mantido após verificação.\")\n"
   ]
  },
  {
   "cell_type": "markdown",
   "id": "42dd126f",
   "metadata": {},
   "source": [
    "## 5. Extração de batimentos e classes\n",
    "\n",
    "Extraímos os batimentos cardíacos dos registros, classificando-os em duas categorias:\n",
    "- **0**: Batimentos não relacionados ao WPW.\n",
    "- **1**: Batimentos relacionados ao WPW.\n",
    "\n",
    "Essa classificação é feita com base nas anotações dos registros.\n"
   ]
  },
  {
   "cell_type": "code",
   "execution_count": 16,
   "id": "4d066642",
   "metadata": {},
   "outputs": [
    {
     "name": "stdout",
     "output_type": "stream",
     "text": [
      "Registro 100: 2274 anotações lidas, 2273 relevantes.\n",
      "Registro 101: 1874 anotações lidas, 1863 relevantes.\n",
      "Registro 103: 2091 anotações lidas, 2084 relevantes.\n",
      "Registro 105: 2691 anotações lidas, 2567 relevantes.\n",
      "Registro 106: 2098 anotações lidas, 2027 relevantes.\n",
      "Registro 107: 2140 anotações lidas, 2137 relevantes.\n",
      "Registro 109: 2535 anotações lidas, 2532 relevantes.\n",
      "Registro 112: 2550 anotações lidas, 2539 relevantes.\n",
      "Registro 113: 1796 anotações lidas, 1795 relevantes.\n",
      "Registro 114: 1890 anotações lidas, 1877 relevantes.\n",
      "Registro 115: 1962 anotações lidas, 1953 relevantes.\n",
      "Registro 116: 2421 anotações lidas, 2412 relevantes.\n",
      "Registro 117: 1539 anotações lidas, 1535 relevantes.\n",
      "Registro 118: 2301 anotações lidas, 2278 relevantes.\n",
      "Registro 119: 2094 anotações lidas, 1987 relevantes.\n",
      "Registro 121: 1876 anotações lidas, 1863 relevantes.\n",
      "Registro 122: 2479 anotações lidas, 2476 relevantes.\n",
      "Registro 123: 1519 anotações lidas, 1518 relevantes.\n",
      "Registro 201: 2039 anotações lidas, 1962 relevantes.\n",
      "Registro 202: 2146 anotações lidas, 2136 relevantes.\n",
      "Registro 205: 2672 anotações lidas, 2656 relevantes.\n",
      "Registro 208: 3040 anotações lidas, 2951 relevantes.\n",
      "Registro 209: 3052 anotações lidas, 3005 relevantes.\n",
      "Registro 210: 2685 anotações lidas, 2649 relevantes.\n",
      "Registro 212: 2763 anotações lidas, 2748 relevantes.\n",
      "Registro 213: 3294 anotações lidas, 3251 relevantes.\n",
      "Registro 214: 2297 anotações lidas, 2260 relevantes.\n",
      "Registro 215: 3400 anotações lidas, 3363 relevantes.\n",
      "Registro 217: 2280 anotações lidas, 2208 relevantes.\n",
      "Registro 219: 2312 anotações lidas, 2154 relevantes.\n",
      "Registro 220: 2069 anotações lidas, 2048 relevantes.\n",
      "Registro 221: 2462 anotações lidas, 2427 relevantes.\n",
      "Registro 222: 2634 anotações lidas, 2482 relevantes.\n",
      "Registro 223: 2643 anotações lidas, 2589 relevantes.\n",
      "Registro 228: 2141 anotações lidas, 2053 relevantes.\n",
      "Registro 230: 2466 anotações lidas, 2256 relevantes.\n",
      "Registro 231: 2011 anotações lidas, 1571 relevantes.\n",
      "Registro 232: 1816 anotações lidas, 1780 relevantes.\n",
      "Registro 233: 3152 anotações lidas, 3079 relevantes.\n",
      "Registro 234: 2764 anotações lidas, 2703 relevantes.\n",
      "\n",
      "Total de amostras relevantes:\n",
      "Classe 0 (Não WPW): 91132 batimentos\n",
      "Classe 1 (WPW): 915 batimentos\n",
      "Total de batimentos: 92047\n"
     ]
    }
   ],
   "source": [
    "nao_wpw_labels = ['N', 'R', 'L', 'f', 'F', '/', 'V', 'A', 'a', 'j']\n",
    "wpw_label = '*'\n",
    "\n",
    "batimentos = []\n",
    "\n",
    "# Inicializa os contadores\n",
    "contagem_nao_wpw = 0\n",
    "contagem_wpw = 0\n",
    "\n",
    "for reg, record in registros_filtrados_com_mlII.items():\n",
    "    try:\n",
    "        atr_path = os.path.join(local_path, f\"{reg}_modified\")\n",
    "        if not os.path.exists(f\"{atr_path}.atr\"):\n",
    "            atr_path = os.path.join(local_path, reg)\n",
    "\n",
    "        annotation = wfdb.rdann(atr_path, 'atr')\n",
    "\n",
    "        for idx, symbol in enumerate(annotation.symbol):\n",
    "            if symbol in nao_wpw_labels:\n",
    "                batimentos.append({\n",
    "                    'record': reg,\n",
    "                    'sample': annotation.sample[idx],\n",
    "                    'symbol': symbol,\n",
    "                    'class': 0  # Não WPW\n",
    "                })\n",
    "                contagem_nao_wpw += 1  # Incrementa a contagem de batimentos não WPW\n",
    "            elif symbol == wpw_label:\n",
    "                batimentos.append({\n",
    "                    'record': reg,\n",
    "                    'sample': annotation.sample[idx],\n",
    "                    'symbol': symbol,\n",
    "                    'class': 1  # WPW\n",
    "                })\n",
    "                contagem_wpw += 1  # Incrementa a contagem de batimentos WPW\n",
    "\n",
    "        print(f\"Registro {reg}: {len(annotation.sample)} anotações lidas, {len([b for b in batimentos if b['record'] == reg])} relevantes.\")\n",
    "\n",
    "    except Exception as e:\n",
    "        print(f\"Erro ao ler anotações do registro {reg}: {e}\")\n",
    "\n",
    "# Exibe o total de amostras relevantes por classe\n",
    "print(f\"\\nTotal de amostras relevantes:\")\n",
    "print(f\"Classe 0 (Não WPW): {contagem_nao_wpw} batimentos\")\n",
    "print(f\"Classe 1 (WPW): {contagem_wpw} batimentos\")\n",
    "\n",
    "# Exibe o total geral\n",
    "total_batimentos = contagem_nao_wpw + contagem_wpw\n",
    "print(f\"Total de batimentos: {total_batimentos}\")\n"
   ]
  },
  {
   "cell_type": "markdown",
   "id": "43269931",
   "metadata": {},
   "source": [
    "## 6. Criação do DataFrame e Salvamento em CSV\n",
    "\n",
    "Após extrair os batimentos e suas classes, adiciona-se a coluna \"channel\" para indicar o canal de ECG utilizado (MLII). Em seguida, cria-se um DataFrame e salva-se os dados em um arquivo CSV.\n"
   ]
  },
  {
   "cell_type": "code",
   "execution_count": 17,
   "id": "2fdae498",
   "metadata": {},
   "outputs": [
    {
     "name": "stdout",
     "output_type": "stream",
     "text": [
      "      record  sample symbol channel  class\n",
      "0        100      77      N    MLII      0\n",
      "1        100     370      N    MLII      0\n",
      "2        100     662      N    MLII      0\n",
      "3        100     946      N    MLII      0\n",
      "4        100    1231      N    MLII      0\n",
      "...      ...     ...    ...     ...    ...\n",
      "92042    234  648797      N    MLII      0\n",
      "92043    234  649040      N    MLII      0\n",
      "92044    234  649292      N    MLII      0\n",
      "92045    234  649536      N    MLII      0\n",
      "92046    234  649772      N    MLII      0\n",
      "\n",
      "[92047 rows x 5 columns]\n"
     ]
    }
   ],
   "source": [
    "# Adiciona a coluna 'channel'\n",
    "for b in batimentos:\n",
    "    b['channel'] = 'MLII'\n",
    "\n",
    "# Cria o DataFrame\n",
    "df_batimentos = pd.DataFrame(batimentos, columns=['record', 'sample', 'symbol', 'channel', 'class'])\n",
    "\n",
    "# Exibe o DataFrame no console\n",
    "print(df_batimentos)"
   ]
  },
  {
   "cell_type": "code",
   "execution_count": 19,
   "id": "4c1927a7",
   "metadata": {},
   "outputs": [
    {
     "name": "stdout",
     "output_type": "stream",
     "text": [
      "Arquivo 'batimentos_filtrados.csv' salvo com sucesso.\n"
     ]
    }
   ],
   "source": [
    "# Salva o DataFrame em um arquivo CSV\n",
    "df_batimentos.to_csv('/home/joaovfg/PFC-WPW/csv/batimentos_filtrados.csv', index=False)\n",
    "print(\"Arquivo 'batimentos_filtrados.csv' salvo com sucesso.\")"
   ]
  }
 ],
 "metadata": {
  "kernelspec": {
   "display_name": "env",
   "language": "python",
   "name": "python3"
  },
  "language_info": {
   "codemirror_mode": {
    "name": "ipython",
    "version": 3
   },
   "file_extension": ".py",
   "mimetype": "text/x-python",
   "name": "python",
   "nbconvert_exporter": "python",
   "pygments_lexer": "ipython3",
   "version": "3.13.2"
  }
 },
 "nbformat": 4,
 "nbformat_minor": 5
}
