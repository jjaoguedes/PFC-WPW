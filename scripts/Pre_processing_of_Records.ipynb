{
 "cells": [
  {
   "cell_type": "markdown",
   "id": "fd43ec97",
   "metadata": {},
   "source": [
    "# Leitura e Pré-processamento dos Registros da Base MIT-BIH\n",
    "\n",
    "Este notebook realiza a leitura, pré-processamento e análise dos registros da base MIT-BIH Arrhythmia Database.\n",
    "\n",
    "## Etapas do processo:\n",
    "1. Carregar e verificar os registros disponíveis.\n",
    "2. Processar os registros com o canal MLII (canal padrão de ECG).\n",
    "3. Tratar os registros com morfologias atípicas e ritmos acelerados.\n",
    "3. Extrair os batimentos cardíacos e suas classes.\n",
    "4. Salvar os dados extraídos em um arquivo CSV."
   ]
  },
  {
   "cell_type": "markdown",
   "id": "f34b09a7",
   "metadata": {},
   "source": [
    "## Importação das Bibliotecas"
   ]
  },
  {
   "cell_type": "code",
   "execution_count": 14,
   "id": "5e8d4af9",
   "metadata": {},
   "outputs": [],
   "source": [
    "import wfdb\n",
    "from wfdb import rdrecord\n",
    "import os\n",
    "import pandas as pd\n",
    "import numpy as np\n",
    "from tqdm import tqdm\n",
    "import matplotlib.pyplot as plt\n",
    "from sklearn.model_selection import train_test_split\n",
    "from shutil import copyfile\n"
   ]
  },
  {
   "cell_type": "markdown",
   "id": "50292d75",
   "metadata": {},
   "source": [
    "## Definição dos registros, caminho dos Arquivos, iteração sobre os registros e exibição dos canais disponíveis\n",
    "\n",
    "O código irá iterar sobre cada um desses registros e verificar os canais disponíveis.\n"
   ]
  },
  {
   "cell_type": "code",
   "execution_count": 4,
   "id": "3b5555e9",
   "metadata": {},
   "outputs": [
    {
     "name": "stdout",
     "output_type": "stream",
     "text": [
      "Registro 100: Canais disponíveis -> ['MLII', 'V5']\n",
      "Registro 101: Canais disponíveis -> ['MLII', 'V1']\n",
      "Registro 102: Canais disponíveis -> ['V5', 'V2']\n",
      "Registro 103: Canais disponíveis -> ['MLII', 'V2']\n",
      "Registro 104: Canais disponíveis -> ['V5', 'V2']\n",
      "Registro 105: Canais disponíveis -> ['MLII', 'V1']\n",
      "Registro 106: Canais disponíveis -> ['MLII', 'V1']\n",
      "Registro 107: Canais disponíveis -> ['MLII', 'V1']\n",
      "Registro 108: Canais disponíveis -> ['MLII', 'V1']\n",
      "Registro 109: Canais disponíveis -> ['MLII', 'V1']\n",
      "Registro 111: Canais disponíveis -> ['MLII', 'V1']\n",
      "Registro 112: Canais disponíveis -> ['MLII', 'V1']\n",
      "Registro 113: Canais disponíveis -> ['MLII', 'V1']\n",
      "Registro 114: Canais disponíveis -> ['V5', 'MLII']\n",
      "Registro 115: Canais disponíveis -> ['MLII', 'V1']\n",
      "Registro 116: Canais disponíveis -> ['MLII', 'V1']\n",
      "Registro 117: Canais disponíveis -> ['MLII', 'V2']\n",
      "Registro 118: Canais disponíveis -> ['MLII', 'V1']\n",
      "Registro 119: Canais disponíveis -> ['MLII', 'V1']\n",
      "Registro 121: Canais disponíveis -> ['MLII', 'V1']\n",
      "Registro 122: Canais disponíveis -> ['MLII', 'V1']\n",
      "Registro 123: Canais disponíveis -> ['MLII', 'V5']\n",
      "Registro 124: Canais disponíveis -> ['MLII', 'V4']\n",
      "Registro 200: Canais disponíveis -> ['MLII', 'V1']\n",
      "Registro 201: Canais disponíveis -> ['MLII', 'V1']\n",
      "Registro 202: Canais disponíveis -> ['MLII', 'V1']\n",
      "Registro 203: Canais disponíveis -> ['MLII', 'V1']\n",
      "Registro 205: Canais disponíveis -> ['MLII', 'V1']\n",
      "Registro 207: Canais disponíveis -> ['MLII', 'V1']\n",
      "Registro 208: Canais disponíveis -> ['MLII', 'V1']\n",
      "Registro 209: Canais disponíveis -> ['MLII', 'V1']\n",
      "Registro 210: Canais disponíveis -> ['MLII', 'V1']\n",
      "Registro 212: Canais disponíveis -> ['MLII', 'V1']\n",
      "Registro 213: Canais disponíveis -> ['MLII', 'V1']\n",
      "Registro 214: Canais disponíveis -> ['MLII', 'V1']\n",
      "Registro 215: Canais disponíveis -> ['MLII', 'V1']\n",
      "Registro 217: Canais disponíveis -> ['MLII', 'V1']\n",
      "Registro 219: Canais disponíveis -> ['MLII', 'V1']\n",
      "Registro 220: Canais disponíveis -> ['MLII', 'V1']\n",
      "Registro 221: Canais disponíveis -> ['MLII', 'V1']\n",
      "Registro 222: Canais disponíveis -> ['MLII', 'V1']\n",
      "Registro 223: Canais disponíveis -> ['MLII', 'V1']\n",
      "Registro 228: Canais disponíveis -> ['MLII', 'V1']\n",
      "Registro 230: Canais disponíveis -> ['MLII', 'V1']\n",
      "Registro 231: Canais disponíveis -> ['MLII', 'V1']\n",
      "Registro 232: Canais disponíveis -> ['MLII', 'V1']\n",
      "Registro 233: Canais disponíveis -> ['MLII', 'V1']\n",
      "Registro 234: Canais disponíveis -> ['MLII', 'V1']\n"
     ]
    }
   ],
   "source": [
    "registros = [\n",
    "    '100', '101', '102', '103', '104', '105', '106', '107', '108', '109',\n",
    "    '111', '112', '113', '114', '115', '116', '117', '118', '119',\n",
    "    '121', '122', '123', '124', '200', '201', '202', '203', '205', '207',\n",
    "    '208', '209', '210', '212', '213', '214', '215', '217', '219', '220',\n",
    "    '221', '222', '223', '228', '230', '231', '232', '233', '234'\n",
    "]\n",
    "\n",
    "local_path = '/home/joaovfg/PFC-WPW/mit-bih-arrhythmia-database-1.0.0/'\n",
    "\n",
    "for reg in registros:\n",
    "    try:\n",
    "        record = rdrecord(os.path.join(local_path, reg))\n",
    "        canais = record.sig_name\n",
    "        print(f'Registro {reg}: Canais disponíveis -> {canais}')\n",
    "    except Exception as e:\n",
    "        print(f'Erro ao carregar registro {reg}: {e}')"
   ]
  },
  {
   "cell_type": "markdown",
   "id": "2d9d0cf7",
   "metadata": {},
   "source": [
    "## Processamento de Registros com Canal MLII\n",
    "\n",
    "Verifica-se se o canal MLII está presente em cada registro e carrega-se apenas esse canal, caso disponível."
   ]
  },
  {
   "cell_type": "code",
   "execution_count": 5,
   "id": "053ee1d5",
   "metadata": {},
   "outputs": [
    {
     "name": "stdout",
     "output_type": "stream",
     "text": [
      "Registro 100 carregado com canal MLII (índice 0).\n",
      "Registro 101 carregado com canal MLII (índice 0).\n",
      "Registro 102 ignorado: canal MLII não encontrado.\n",
      "Registro 103 carregado com canal MLII (índice 0).\n",
      "Registro 104 ignorado: canal MLII não encontrado.\n",
      "Registro 105 carregado com canal MLII (índice 0).\n",
      "Registro 106 carregado com canal MLII (índice 0).\n",
      "Registro 107 carregado com canal MLII (índice 0).\n",
      "Registro 108 carregado com canal MLII (índice 0).\n",
      "Registro 109 carregado com canal MLII (índice 0).\n",
      "Registro 111 carregado com canal MLII (índice 0).\n",
      "Registro 112 carregado com canal MLII (índice 0).\n",
      "Registro 113 carregado com canal MLII (índice 0).\n",
      "Registro 114 carregado com canal MLII (índice 1).\n",
      "Registro 115 carregado com canal MLII (índice 0).\n",
      "Registro 116 carregado com canal MLII (índice 0).\n",
      "Registro 117 carregado com canal MLII (índice 0).\n",
      "Registro 118 carregado com canal MLII (índice 0).\n",
      "Registro 119 carregado com canal MLII (índice 0).\n",
      "Registro 121 carregado com canal MLII (índice 0).\n",
      "Registro 122 carregado com canal MLII (índice 0).\n",
      "Registro 123 carregado com canal MLII (índice 0).\n",
      "Registro 124 carregado com canal MLII (índice 0).\n",
      "Registro 200 carregado com canal MLII (índice 0).\n",
      "Registro 201 carregado com canal MLII (índice 0).\n",
      "Registro 202 carregado com canal MLII (índice 0).\n",
      "Registro 203 carregado com canal MLII (índice 0).\n",
      "Registro 205 carregado com canal MLII (índice 0).\n",
      "Registro 207 carregado com canal MLII (índice 0).\n",
      "Registro 208 carregado com canal MLII (índice 0).\n",
      "Registro 209 carregado com canal MLII (índice 0).\n",
      "Registro 210 carregado com canal MLII (índice 0).\n",
      "Registro 212 carregado com canal MLII (índice 0).\n",
      "Registro 213 carregado com canal MLII (índice 0).\n",
      "Registro 214 carregado com canal MLII (índice 0).\n",
      "Registro 215 carregado com canal MLII (índice 0).\n",
      "Registro 217 carregado com canal MLII (índice 0).\n",
      "Registro 219 carregado com canal MLII (índice 0).\n",
      "Registro 220 carregado com canal MLII (índice 0).\n",
      "Registro 221 carregado com canal MLII (índice 0).\n",
      "Registro 222 carregado com canal MLII (índice 0).\n",
      "Registro 223 carregado com canal MLII (índice 0).\n",
      "Registro 228 carregado com canal MLII (índice 0).\n",
      "Registro 230 carregado com canal MLII (índice 0).\n",
      "Registro 231 carregado com canal MLII (índice 0).\n",
      "Registro 232 carregado com canal MLII (índice 0).\n",
      "Registro 233 carregado com canal MLII (índice 0).\n",
      "Registro 234 carregado com canal MLII (índice 0).\n"
     ]
    }
   ],
   "source": [
    "# Dicionário para armazenar registros com canal MLII\n",
    "registros_com_mlII = {}\n",
    "\n",
    "# Primeiro, carregamos os registros com canal MLII\n",
    "for reg in registros:\n",
    "    try:\n",
    "        record = rdrecord(os.path.join(local_path, reg), channels=None)\n",
    "        canais = record.sig_name\n",
    "\n",
    "        # Verifica se o canal MLII está presente\n",
    "        if 'MLII' not in canais:\n",
    "            print(f\"Registro {reg} ignorado: canal MLII não encontrado.\")\n",
    "            continue\n",
    "\n",
    "        idx_mlII = canais.index('MLII')\n",
    "        record_mlII = rdrecord(os.path.join(local_path, reg), channels=[idx_mlII])\n",
    "\n",
    "        registros_com_mlII[reg] = record_mlII\n",
    "        print(f\"Registro {reg} carregado com canal MLII (índice {idx_mlII}).\")\n",
    "\n",
    "    except Exception as e:\n",
    "        print(f\"Erro ao processar registro {reg}: {e}\")"
   ]
  },
  {
   "cell_type": "markdown",
   "id": "358d49d8",
   "metadata": {},
   "source": [
    "## Tratamento de registros com morfologias atípicas e ritmos acelerados\n",
    "\n",
    "Os registros 108, 111 e 124 possuem morfologias atípicas, enquanto os registros 200, 203 e 207 possuem o mesmo com ritmos acelerados, o que atrapalha na segmentação dos sinais."
   ]
  },
  {
   "cell_type": "code",
   "execution_count": 6,
   "id": "f4235931",
   "metadata": {},
   "outputs": [
    {
     "name": "stdout",
     "output_type": "stream",
     "text": [
      "Registro 100 mantido após verificação.\n",
      "Registro 101 mantido após verificação.\n",
      "Registro 103 mantido após verificação.\n",
      "Registro 105 mantido após verificação.\n",
      "Registro 106 mantido após verificação.\n",
      "Registro 107 mantido após verificação.\n",
      "Registro 108 excluído devido a morfologias atípicas ou ritmos acelerados.\n",
      "Registro 109 mantido após verificação.\n",
      "Registro 111 excluído devido a morfologias atípicas ou ritmos acelerados.\n",
      "Registro 112 mantido após verificação.\n",
      "Registro 113 mantido após verificação.\n",
      "Registro 114 mantido após verificação.\n",
      "Registro 115 mantido após verificação.\n",
      "Registro 116 mantido após verificação.\n",
      "Registro 117 mantido após verificação.\n",
      "Registro 118 mantido após verificação.\n",
      "Registro 119 mantido após verificação.\n",
      "Registro 121 mantido após verificação.\n",
      "Registro 122 mantido após verificação.\n",
      "Registro 123 mantido após verificação.\n",
      "Registro 124 excluído devido a morfologias atípicas ou ritmos acelerados.\n",
      "Registro 200 excluído devido a morfologias atípicas ou ritmos acelerados.\n",
      "Registro 201 mantido após verificação.\n",
      "Registro 202 mantido após verificação.\n",
      "Registro 203 excluído devido a morfologias atípicas ou ritmos acelerados.\n",
      "Registro 205 mantido após verificação.\n",
      "Registro 207 excluído devido a morfologias atípicas ou ritmos acelerados.\n",
      "Registro 208 mantido após verificação.\n",
      "Registro 209 mantido após verificação.\n",
      "Registro 210 mantido após verificação.\n",
      "Registro 212 mantido após verificação.\n",
      "Registro 213 mantido após verificação.\n",
      "Registro 214 mantido após verificação.\n",
      "Registro 215 mantido após verificação.\n",
      "Registro 217 mantido após verificação.\n",
      "Registro 219 mantido após verificação.\n",
      "Registro 220 mantido após verificação.\n",
      "Registro 221 mantido após verificação.\n",
      "Registro 222 mantido após verificação.\n",
      "Registro 223 mantido após verificação.\n",
      "Registro 228 mantido após verificação.\n",
      "Registro 230 mantido após verificação.\n",
      "Registro 231 mantido após verificação.\n",
      "Registro 232 mantido após verificação.\n",
      "Registro 233 mantido após verificação.\n",
      "Registro 234 mantido após verificação.\n"
     ]
    }
   ],
   "source": [
    "# Registros a serem excluídos devido a morfologias atípicas e ritmos acelerados\n",
    "registros_excluir = ['108', '111', '124', '200', '203', '207']\n",
    "\n",
    "# Lista para armazenar os registros filtrados\n",
    "registros_filtrados_com_mlII = {}\n",
    "\n",
    "# Agora, verificamos e removemos os registros a serem excluídos\n",
    "for reg, record in registros_com_mlII.items():\n",
    "    if reg in registros_excluir:\n",
    "        print(f\"Registro {reg} excluído devido a morfologias atípicas ou ritmos acelerados.\")\n",
    "        continue  # Exclui o registro\n",
    "\n",
    "    # Se o registro não for excluído, é armazenado na lista de registros filtrados\n",
    "    registros_filtrados_com_mlII[reg] = record\n",
    "    print(f\"Registro {reg} mantido após verificação.\")\n"
   ]
  },
  {
   "cell_type": "markdown",
   "id": "42dd126f",
   "metadata": {},
   "source": [
    "## Extração de batimentos e classes\n",
    "\n",
    "Extrai-se os batimentos cardíacos dos registros, classificando-os em duas categorias:\n",
    "- **0**: Batimentos não relacionados ao WPW.\n",
    "- **1**: Batimentos relacionados ao WPW.\n",
    "\n",
    "Essa classificação é feita com base nas anotações dos registros.\n"
   ]
  },
  {
   "cell_type": "code",
   "execution_count": 7,
   "id": "4d066642",
   "metadata": {},
   "outputs": [
    {
     "name": "stdout",
     "output_type": "stream",
     "text": [
      "Registro 100: 2274 anotações lidas, 2273 relevantes.\n",
      "Registro 101: 1874 anotações lidas, 1863 relevantes.\n",
      "Registro 103: 2091 anotações lidas, 2084 relevantes.\n",
      "Registro 105: 2691 anotações lidas, 2567 relevantes.\n",
      "Registro 106: 2098 anotações lidas, 2027 relevantes.\n",
      "Registro 107: 2140 anotações lidas, 2137 relevantes.\n",
      "Registro 109: 2535 anotações lidas, 2532 relevantes.\n",
      "Registro 112: 2550 anotações lidas, 2539 relevantes.\n",
      "Registro 113: 1796 anotações lidas, 1795 relevantes.\n",
      "Registro 114: 1890 anotações lidas, 1877 relevantes.\n",
      "Registro 115: 1962 anotações lidas, 1953 relevantes.\n",
      "Registro 116: 2421 anotações lidas, 2412 relevantes.\n",
      "Registro 117: 1539 anotações lidas, 1535 relevantes.\n",
      "Registro 118: 2301 anotações lidas, 2278 relevantes.\n",
      "Registro 119: 2094 anotações lidas, 1987 relevantes.\n",
      "Registro 121: 1876 anotações lidas, 1863 relevantes.\n",
      "Registro 122: 2479 anotações lidas, 2476 relevantes.\n",
      "Registro 123: 1519 anotações lidas, 1518 relevantes.\n",
      "Registro 201: 2039 anotações lidas, 1962 relevantes.\n",
      "Registro 202: 2146 anotações lidas, 2136 relevantes.\n",
      "Registro 205: 2672 anotações lidas, 2656 relevantes.\n",
      "Registro 208: 3040 anotações lidas, 2951 relevantes.\n",
      "Registro 209: 3052 anotações lidas, 3005 relevantes.\n",
      "Registro 210: 2685 anotações lidas, 2649 relevantes.\n",
      "Registro 212: 2763 anotações lidas, 2748 relevantes.\n",
      "Registro 213: 3294 anotações lidas, 3251 relevantes.\n",
      "Registro 214: 2297 anotações lidas, 2260 relevantes.\n",
      "Registro 215: 3400 anotações lidas, 3363 relevantes.\n",
      "Registro 217: 2280 anotações lidas, 2208 relevantes.\n",
      "Registro 219: 2312 anotações lidas, 2154 relevantes.\n",
      "Registro 220: 2069 anotações lidas, 2048 relevantes.\n",
      "Registro 221: 2462 anotações lidas, 2427 relevantes.\n",
      "Registro 222: 2634 anotações lidas, 2482 relevantes.\n",
      "Registro 223: 2643 anotações lidas, 2589 relevantes.\n",
      "Registro 228: 2141 anotações lidas, 2053 relevantes.\n",
      "Registro 230: 2466 anotações lidas, 2256 relevantes.\n",
      "Registro 231: 2011 anotações lidas, 1571 relevantes.\n",
      "Registro 232: 1816 anotações lidas, 1780 relevantes.\n",
      "Registro 233: 3152 anotações lidas, 3079 relevantes.\n",
      "Registro 234: 2764 anotações lidas, 2703 relevantes.\n",
      "\n",
      "Total de amostras relevantes:\n",
      "Classe 0 (Não WPW): 91132 batimentos\n",
      "Classe 1 (WPW): 915 batimentos\n",
      "Total de batimentos: 92047\n"
     ]
    }
   ],
   "source": [
    "nao_wpw_labels = ['N', 'R', 'L', 'f', 'F', '/', 'V', 'A', 'a', 'j']\n",
    "wpw_label = '*'\n",
    "\n",
    "batimentos = []\n",
    "\n",
    "# Inicializa os contadores\n",
    "contagem_nao_wpw = 0\n",
    "contagem_wpw = 0\n",
    "\n",
    "for reg, record in registros_filtrados_com_mlII.items():\n",
    "    try:\n",
    "        atr_path = os.path.join(local_path, f\"{reg}_modified\")\n",
    "        if not os.path.exists(f\"{atr_path}.atr\"):\n",
    "            atr_path = os.path.join(local_path, reg)\n",
    "\n",
    "        annotation = wfdb.rdann(atr_path, 'atr')\n",
    "\n",
    "        for idx, symbol in enumerate(annotation.symbol):\n",
    "            if symbol in nao_wpw_labels:\n",
    "                batimentos.append({\n",
    "                    'record': reg,\n",
    "                    'sample': annotation.sample[idx],\n",
    "                    'symbol': symbol,\n",
    "                    'class': 0  # Não WPW\n",
    "                })\n",
    "                contagem_nao_wpw += 1  # Incrementa a contagem de batimentos não WPW\n",
    "            elif symbol == wpw_label:\n",
    "                batimentos.append({\n",
    "                    'record': reg,\n",
    "                    'sample': annotation.sample[idx],\n",
    "                    'symbol': symbol,\n",
    "                    'class': 1  # WPW\n",
    "                })\n",
    "                contagem_wpw += 1  # Incrementa a contagem de batimentos WPW\n",
    "\n",
    "        print(f\"Registro {reg}: {len(annotation.sample)} anotações lidas, {len([b for b in batimentos if b['record'] == reg])} relevantes.\")\n",
    "\n",
    "    except Exception as e:\n",
    "        print(f\"Erro ao ler anotações do registro {reg}: {e}\")\n",
    "\n",
    "# Exibe o total de amostras relevantes por classe\n",
    "print(f\"\\nTotal de amostras relevantes:\")\n",
    "print(f\"Classe 0 (Não WPW): {contagem_nao_wpw} batimentos\")\n",
    "print(f\"Classe 1 (WPW): {contagem_wpw} batimentos\")\n",
    "\n",
    "# Exibe o total geral\n",
    "total_batimentos = contagem_nao_wpw + contagem_wpw\n",
    "print(f\"Total de batimentos: {total_batimentos}\")\n"
   ]
  },
  {
   "cell_type": "markdown",
   "id": "43269931",
   "metadata": {},
   "source": [
    "## Criação do DataFrame e Salvamento em CSV\n",
    "\n",
    "Após extrair os batimentos e suas classes, adiciona-se a coluna \"channel\" para indicar o canal de ECG utilizado (MLII). Em seguida, cria-se um DataFrame e salva-se os dados em um arquivo CSV.\n"
   ]
  },
  {
   "cell_type": "code",
   "execution_count": 8,
   "id": "2fdae498",
   "metadata": {},
   "outputs": [
    {
     "name": "stdout",
     "output_type": "stream",
     "text": [
      "      record  sample symbol channel  class\n",
      "0        100      77      N    MLII      0\n",
      "1        100     370      N    MLII      0\n",
      "2        100     662      N    MLII      0\n",
      "3        100     946      N    MLII      0\n",
      "4        100    1231      N    MLII      0\n",
      "...      ...     ...    ...     ...    ...\n",
      "92042    234  648797      N    MLII      0\n",
      "92043    234  649040      N    MLII      0\n",
      "92044    234  649292      N    MLII      0\n",
      "92045    234  649536      N    MLII      0\n",
      "92046    234  649772      N    MLII      0\n",
      "\n",
      "[92047 rows x 5 columns]\n"
     ]
    }
   ],
   "source": [
    "# Adiciona a coluna 'channel'\n",
    "for b in batimentos:\n",
    "    b['channel'] = 'MLII'\n",
    "\n",
    "# Cria o DataFrame\n",
    "df_batimentos = pd.DataFrame(batimentos, columns=['record', 'sample', 'symbol', 'channel', 'class'])\n",
    "\n",
    "# Exibe o DataFrame no console\n",
    "print(df_batimentos)"
   ]
  },
  {
   "cell_type": "code",
   "execution_count": 9,
   "id": "4c1927a7",
   "metadata": {},
   "outputs": [
    {
     "name": "stdout",
     "output_type": "stream",
     "text": [
      "Arquivo 'batimentos_filtrados.csv' salvo com sucesso.\n"
     ]
    }
   ],
   "source": [
    "# Salva o DataFrame em um arquivo CSV\n",
    "df_batimentos.to_csv('/home/joaovfg/PFC-WPW/csv/batimentos_filtrados.csv', index=False)\n",
    "print(\"Arquivo 'batimentos_filtrados.csv' salvo com sucesso.\")"
   ]
  },
  {
   "cell_type": "markdown",
   "id": "d606ead2",
   "metadata": {},
   "source": [
    "# Segmentação e normalização dos registros "
   ]
  },
  {
   "cell_type": "code",
   "execution_count": 10,
   "id": "2a6e8895",
   "metadata": {},
   "outputs": [],
   "source": [
    "# Configurações da janela de segmentação\n",
    "window_left = 76\n",
    "window_right = 140\n",
    "segment_length = window_left + window_right\n",
    "\n",
    "# Caminhos principais\n",
    "local_path = '/home/joaovfg/PFC-WPW/mit-bih-arrhythmia-database-1.0.0/'\n",
    "output_base_path = '/home/joaovfg/PFC-WPW/mit-bih-segmented-signals/'"
   ]
  },
  {
   "cell_type": "code",
   "execution_count": 11,
   "id": "81c6e5b2",
   "metadata": {},
   "outputs": [
    {
     "name": "stderr",
     "output_type": "stream",
     "text": [
      "Segmentando batimentos:   1%|          | 1035/92047 [00:00<00:16, 5536.72it/s]"
     ]
    },
    {
     "name": "stdout",
     "output_type": "stream",
     "text": [
      "\n",
      "Segmentando registro 100...\n"
     ]
    },
    {
     "name": "stderr",
     "output_type": "stream",
     "text": [
      "Segmentando batimentos:   3%|▎         | 2995/92047 [00:00<00:15, 5891.29it/s]"
     ]
    },
    {
     "name": "stdout",
     "output_type": "stream",
     "text": [
      "Amostra fora dos limites em 100, sample 649991\n",
      "\n",
      "Segmentando registro 101...\n"
     ]
    },
    {
     "name": "stderr",
     "output_type": "stream",
     "text": [
      "Segmentando batimentos:   5%|▌         | 4861/92047 [00:00<00:15, 5465.39it/s]"
     ]
    },
    {
     "name": "stdout",
     "output_type": "stream",
     "text": [
      "\n",
      "Segmentando registro 103...\n"
     ]
    },
    {
     "name": "stderr",
     "output_type": "stream",
     "text": [
      "Segmentando batimentos:   8%|▊         | 7150/92047 [00:01<00:15, 5438.27it/s]"
     ]
    },
    {
     "name": "stdout",
     "output_type": "stream",
     "text": [
      "Amostra fora dos limites em 103, sample 649875\n",
      "\n",
      "Segmentando registro 105...\n"
     ]
    },
    {
     "name": "stderr",
     "output_type": "stream",
     "text": [
      "Segmentando batimentos:  10%|█         | 9478/92047 [00:01<00:15, 5321.20it/s]"
     ]
    },
    {
     "name": "stdout",
     "output_type": "stream",
     "text": [
      "\n",
      "Segmentando registro 106...\n"
     ]
    },
    {
     "name": "stderr",
     "output_type": "stream",
     "text": [
      "Segmentando batimentos:  13%|█▎        | 11797/92047 [00:02<00:15, 5308.39it/s]"
     ]
    },
    {
     "name": "stdout",
     "output_type": "stream",
     "text": [
      "\n",
      "Segmentando registro 107...\n"
     ]
    },
    {
     "name": "stderr",
     "output_type": "stream",
     "text": [
      "Segmentando batimentos:  15%|█▍        | 13709/92047 [00:02<00:13, 5683.35it/s]"
     ]
    },
    {
     "name": "stdout",
     "output_type": "stream",
     "text": [
      "\n",
      "Segmentando registro 109...\n"
     ]
    },
    {
     "name": "stderr",
     "output_type": "stream",
     "text": [
      "Segmentando batimentos:  17%|█▋        | 16081/92047 [00:03<00:15, 4781.10it/s]"
     ]
    },
    {
     "name": "stdout",
     "output_type": "stream",
     "text": [
      "Amostra fora dos limites em 109, sample 649931\n",
      "\n",
      "Segmentando registro 112...\n"
     ]
    },
    {
     "name": "stderr",
     "output_type": "stream",
     "text": [
      "Segmentando batimentos:  21%|██        | 19192/92047 [00:03<00:12, 5905.40it/s]"
     ]
    },
    {
     "name": "stdout",
     "output_type": "stream",
     "text": [
      "Amostra fora dos limites em 112, sample 649883\n",
      "\n",
      "Segmentando registro 113...\n"
     ]
    },
    {
     "name": "stderr",
     "output_type": "stream",
     "text": [
      "Segmentando batimentos:  22%|██▏       | 20513/92047 [00:03<00:11, 5994.08it/s]"
     ]
    },
    {
     "name": "stdout",
     "output_type": "stream",
     "text": [
      "Amostra fora dos limites em 113, sample 649994\n",
      "\n",
      "Segmentando registro 114...\n"
     ]
    },
    {
     "name": "stderr",
     "output_type": "stream",
     "text": [
      "Segmentando batimentos:  25%|██▍       | 22571/92047 [00:04<00:11, 6217.42it/s]"
     ]
    },
    {
     "name": "stdout",
     "output_type": "stream",
     "text": [
      "\n",
      "Segmentando registro 115...\n"
     ]
    },
    {
     "name": "stderr",
     "output_type": "stream",
     "text": [
      "Segmentando batimentos:  27%|██▋       | 24654/92047 [00:04<00:10, 6328.09it/s]"
     ]
    },
    {
     "name": "stdout",
     "output_type": "stream",
     "text": [
      "Amostra fora dos limites em 115, sample 649955\n",
      "\n",
      "Segmentando registro 116...\n"
     ]
    },
    {
     "name": "stderr",
     "output_type": "stream",
     "text": [
      "Segmentando batimentos:  29%|██▉       | 26723/92047 [00:04<00:10, 6212.85it/s]"
     ]
    },
    {
     "name": "stdout",
     "output_type": "stream",
     "text": [
      "Amostra fora dos limites em 116, sample 649957\n",
      "\n",
      "Segmentando registro 117...\n"
     ]
    },
    {
     "name": "stderr",
     "output_type": "stream",
     "text": [
      "Segmentando batimentos:  31%|███       | 28088/92047 [00:05<00:10, 5958.50it/s]"
     ]
    },
    {
     "name": "stdout",
     "output_type": "stream",
     "text": [
      "Amostra fora dos limites em 117, sample 649926\n",
      "\n",
      "Segmentando registro 118...\n",
      "Amostra fora dos limites em 118, sample 68\n"
     ]
    },
    {
     "name": "stderr",
     "output_type": "stream",
     "text": [
      "Segmentando batimentos:  33%|███▎      | 30622/92047 [00:05<00:11, 5172.88it/s]"
     ]
    },
    {
     "name": "stdout",
     "output_type": "stream",
     "text": [
      "\n",
      "Segmentando registro 119...\n"
     ]
    },
    {
     "name": "stderr",
     "output_type": "stream",
     "text": [
      "Segmentando batimentos:  36%|███▌      | 33025/92047 [00:05<00:10, 5453.76it/s]"
     ]
    },
    {
     "name": "stdout",
     "output_type": "stream",
     "text": [
      "\n",
      "Segmentando registro 121...\n"
     ]
    },
    {
     "name": "stderr",
     "output_type": "stream",
     "text": [
      "Segmentando batimentos:  37%|███▋      | 34114/92047 [00:06<00:13, 4179.45it/s]"
     ]
    },
    {
     "name": "stdout",
     "output_type": "stream",
     "text": [
      "Amostra fora dos limites em 121, sample 649878\n",
      "\n",
      "Segmentando registro 122...\n"
     ]
    },
    {
     "name": "stderr",
     "output_type": "stream",
     "text": [
      "Segmentando batimentos:  40%|████      | 36893/92047 [00:06<00:12, 4354.56it/s]"
     ]
    },
    {
     "name": "stdout",
     "output_type": "stream",
     "text": [
      "Amostra fora dos limites em 122, sample 649905\n",
      "\n",
      "Segmentando registro 123...\n",
      "Amostra fora dos limites em 123, sample 70\n"
     ]
    },
    {
     "name": "stderr",
     "output_type": "stream",
     "text": [
      "Segmentando batimentos:  42%|████▏     | 38362/92047 [00:07<00:12, 4199.63it/s]"
     ]
    },
    {
     "name": "stdout",
     "output_type": "stream",
     "text": [
      "\n",
      "Segmentando registro 201...\n"
     ]
    },
    {
     "name": "stderr",
     "output_type": "stream",
     "text": [
      "Segmentando batimentos:  44%|████▍     | 40688/92047 [00:07<00:10, 4751.54it/s]"
     ]
    },
    {
     "name": "stdout",
     "output_type": "stream",
     "text": [
      "\n",
      "Segmentando registro 202...\n"
     ]
    },
    {
     "name": "stderr",
     "output_type": "stream",
     "text": [
      "Segmentando batimentos:  46%|████▋     | 42722/92047 [00:08<00:10, 4692.44it/s]"
     ]
    },
    {
     "name": "stdout",
     "output_type": "stream",
     "text": [
      "Amostra fora dos limites em 202, sample 649877\n",
      "\n",
      "Segmentando registro 205...\n"
     ]
    },
    {
     "name": "stderr",
     "output_type": "stream",
     "text": [
      "Segmentando batimentos:  50%|████▉     | 45806/92047 [00:08<00:07, 5861.48it/s]"
     ]
    },
    {
     "name": "stdout",
     "output_type": "stream",
     "text": [
      "\n",
      "Segmentando registro 208...\n",
      "Amostra fora dos limites em 208, sample 46\n"
     ]
    },
    {
     "name": "stderr",
     "output_type": "stream",
     "text": [
      "Segmentando batimentos:  53%|█████▎    | 48371/92047 [00:09<00:07, 6038.57it/s]"
     ]
    },
    {
     "name": "stdout",
     "output_type": "stream",
     "text": [
      "Amostra fora dos limites em 208, sample 649935\n",
      "\n",
      "Segmentando registro 209...\n"
     ]
    },
    {
     "name": "stderr",
     "output_type": "stream",
     "text": [
      "Segmentando batimentos:  56%|█████▋    | 51796/92047 [00:09<00:06, 6460.33it/s]"
     ]
    },
    {
     "name": "stdout",
     "output_type": "stream",
     "text": [
      "\n",
      "Segmentando registro 210...\n",
      "Amostra fora dos limites em 210, sample 57\n"
     ]
    },
    {
     "name": "stderr",
     "output_type": "stream",
     "text": [
      "Segmentando batimentos:  59%|█████▊    | 53878/92047 [00:10<00:05, 6438.91it/s]"
     ]
    },
    {
     "name": "stdout",
     "output_type": "stream",
     "text": [
      "Amostra fora dos limites em 210, sample 649962\n",
      "\n",
      "Segmentando registro 212...\n"
     ]
    },
    {
     "name": "stderr",
     "output_type": "stream",
     "text": [
      "Segmentando batimentos:  62%|██████▏   | 56660/92047 [00:10<00:05, 6162.57it/s]"
     ]
    },
    {
     "name": "stdout",
     "output_type": "stream",
     "text": [
      "Amostra fora dos limites em 212, sample 649945\n",
      "\n",
      "Segmentando registro 213...\n"
     ]
    },
    {
     "name": "stderr",
     "output_type": "stream",
     "text": [
      "Segmentando batimentos:  65%|██████▍   | 59811/92047 [00:11<00:05, 5597.96it/s]"
     ]
    },
    {
     "name": "stdout",
     "output_type": "stream",
     "text": [
      "Amostra fora dos limites em 213, sample 649992\n",
      "\n",
      "Segmentando registro 214...\n",
      "Amostra fora dos limites em 214, sample 58\n"
     ]
    },
    {
     "name": "stderr",
     "output_type": "stream",
     "text": [
      "Segmentando batimentos:  68%|██████▊   | 62193/92047 [00:11<00:05, 5272.78it/s]"
     ]
    },
    {
     "name": "stdout",
     "output_type": "stream",
     "text": [
      "Amostra fora dos limites em 214, sample 649891\n",
      "\n",
      "Segmentando registro 215...\n"
     ]
    },
    {
     "name": "stderr",
     "output_type": "stream",
     "text": [
      "Segmentando batimentos:  71%|███████▏  | 65612/92047 [00:12<00:04, 6309.89it/s]"
     ]
    },
    {
     "name": "stdout",
     "output_type": "stream",
     "text": [
      "Amostra fora dos limites em 215, sample 649875\n",
      "\n",
      "Segmentando registro 217...\n"
     ]
    },
    {
     "name": "stderr",
     "output_type": "stream",
     "text": [
      "Segmentando batimentos:  74%|███████▎  | 67724/92047 [00:12<00:03, 6474.10it/s]"
     ]
    },
    {
     "name": "stdout",
     "output_type": "stream",
     "text": [
      "\n",
      "Segmentando registro 219...\n"
     ]
    },
    {
     "name": "stderr",
     "output_type": "stream",
     "text": [
      "Segmentando batimentos:  76%|███████▌  | 69845/92047 [00:12<00:03, 6498.47it/s]"
     ]
    },
    {
     "name": "stdout",
     "output_type": "stream",
     "text": [
      "\n",
      "Segmentando registro 220...\n",
      "Amostra fora dos limites em 220, sample 28\n"
     ]
    },
    {
     "name": "stderr",
     "output_type": "stream",
     "text": [
      "Segmentando batimentos:  78%|███████▊  | 71828/92047 [00:13<00:03, 5141.39it/s]"
     ]
    },
    {
     "name": "stdout",
     "output_type": "stream",
     "text": [
      "Amostra fora dos limites em 220, sample 649904\n",
      "\n",
      "Segmentando registro 221...\n"
     ]
    },
    {
     "name": "stderr",
     "output_type": "stream",
     "text": [
      "Segmentando batimentos:  81%|████████  | 74495/92047 [00:13<00:02, 5948.52it/s]"
     ]
    },
    {
     "name": "stdout",
     "output_type": "stream",
     "text": [
      "\n",
      "Segmentando registro 222...\n"
     ]
    },
    {
     "name": "stderr",
     "output_type": "stream",
     "text": [
      "Segmentando batimentos:  84%|████████▎ | 76955/92047 [00:14<00:02, 5471.74it/s]"
     ]
    },
    {
     "name": "stdout",
     "output_type": "stream",
     "text": [
      "\n",
      "Segmentando registro 223...\n"
     ]
    },
    {
     "name": "stderr",
     "output_type": "stream",
     "text": [
      "Segmentando batimentos:  86%|████████▋ | 79406/92047 [00:14<00:02, 5314.24it/s]"
     ]
    },
    {
     "name": "stdout",
     "output_type": "stream",
     "text": [
      "\n",
      "Segmentando registro 228...\n"
     ]
    },
    {
     "name": "stderr",
     "output_type": "stream",
     "text": [
      "Segmentando batimentos:  89%|████████▊ | 81563/92047 [00:14<00:02, 4514.95it/s]"
     ]
    },
    {
     "name": "stdout",
     "output_type": "stream",
     "text": [
      "\n",
      "Segmentando registro 230...\n",
      "Amostra fora dos limites em 230, sample 75\n"
     ]
    },
    {
     "name": "stderr",
     "output_type": "stream",
     "text": [
      "Segmentando batimentos:  91%|█████████ | 83929/92047 [00:15<00:01, 5153.24it/s]"
     ]
    },
    {
     "name": "stdout",
     "output_type": "stream",
     "text": [
      "\n",
      "Segmentando registro 231...\n"
     ]
    },
    {
     "name": "stderr",
     "output_type": "stream",
     "text": [
      "Segmentando batimentos:  93%|█████████▎| 85148/92047 [00:15<00:01, 5344.86it/s]"
     ]
    },
    {
     "name": "stdout",
     "output_type": "stream",
     "text": [
      "Amostra fora dos limites em 231, sample 649862\n",
      "\n",
      "Segmentando registro 232...\n"
     ]
    },
    {
     "name": "stderr",
     "output_type": "stream",
     "text": [
      "Segmentando batimentos:  95%|█████████▍| 87427/92047 [00:16<00:00, 5274.18it/s]"
     ]
    },
    {
     "name": "stdout",
     "output_type": "stream",
     "text": [
      "\n",
      "Segmentando registro 233...\n",
      "Amostra fora dos limites em 233, sample 42\n"
     ]
    },
    {
     "name": "stderr",
     "output_type": "stream",
     "text": [
      "Segmentando batimentos:  98%|█████████▊| 89848/92047 [00:16<00:00, 4909.13it/s]"
     ]
    },
    {
     "name": "stdout",
     "output_type": "stream",
     "text": [
      "Amostra fora dos limites em 233, sample 649946\n",
      "\n",
      "Segmentando registro 234...\n"
     ]
    },
    {
     "name": "stderr",
     "output_type": "stream",
     "text": [
      "Segmentando batimentos: 100%|██████████| 92047/92047 [00:16<00:00, 5445.48it/s]"
     ]
    },
    {
     "name": "stdout",
     "output_type": "stream",
     "text": [
      "\n",
      "Resumo de segmentos por classe:\n",
      "  Classe 0: 91104 segmentos\n",
      "  Classe 1: 915 segmentos\n",
      "\n",
      "Segmentação finalizada. Total de segmentos salvos: 92019\n"
     ]
    },
    {
     "name": "stderr",
     "output_type": "stream",
     "text": [
      "\n"
     ]
    }
   ],
   "source": [
    "# Agrupa o carregamento de sinais para não recarregar o mesmo registro várias vezes\n",
    "sinais_cache = {}\n",
    "\n",
    "segmentos_por_classe = {0: 0, 1: 0}\n",
    "total_segmentos = 0\n",
    "\n",
    "# Itera sobre cada batimento do DataFrame\n",
    "for i, row in tqdm(df_batimentos.iterrows(), total=len(df_batimentos), desc=\"Segmentando batimentos\"):\n",
    "\n",
    "    reg = str(row['record'])\n",
    "    sample = int(row['sample'])\n",
    "    classe = int(row['class'])\n",
    "\n",
    "    if reg in registros_excluir:\n",
    "        print(f\"Registro {reg} excluído (morfologia ou ritmo inadequado).\")\n",
    "        continue\n",
    "\n",
    "    if reg not in sinais_cache:\n",
    "        try:\n",
    "            record_path = os.path.join(local_path, reg)\n",
    "            record = wfdb.rdrecord(record_path)\n",
    "\n",
    "            if 'MLII' not in record.sig_name:\n",
    "                print(f\"Registro {reg} não contém canal MLII. Ignorado.\")\n",
    "                continue\n",
    "\n",
    "            idx_mlII = record.sig_name.index('MLII')\n",
    "            record = wfdb.rdrecord(record_path, channels=[idx_mlII])\n",
    "            sinal = record.p_signal[:, 0]\n",
    "\n",
    "            sinais_cache[reg] = sinal\n",
    "            print(f\"\\nSegmentando registro {reg}...\")\n",
    "        except Exception as e:\n",
    "            print(f\"Erro ao carregar o registro {reg}: {e}\")\n",
    "            continue\n",
    "    else:\n",
    "        sinal = sinais_cache[reg]\n",
    "\n",
    "    inicio = sample - window_left\n",
    "    fim = sample + window_right\n",
    "\n",
    "    if inicio < 0 or fim > len(sinal):\n",
    "        print(f\"Amostra fora dos limites em {reg}, sample {sample}\")\n",
    "        continue\n",
    "\n",
    "    segmento = sinal[inicio:fim]\n",
    "\n",
    "    min_val, max_val = np.min(segmento), np.max(segmento)\n",
    "    if max_val - min_val == 0:\n",
    "        print(f\"Amostra com sinal constante em {reg}, sample {sample}\")\n",
    "        continue\n",
    "\n",
    "    segmento_normalizado = (segmento - min_val) / (max_val - min_val)\n",
    "\n",
    "    # Diretórios organizados por classe (0 ou 1)\n",
    "    class_dir = os.path.join(output_base_path, str(classe))\n",
    "    segments_dir = os.path.join(class_dir)\n",
    "    #labels_dir = os.path.join(class_dir, 'labels')\n",
    "\n",
    "    os.makedirs(segments_dir, exist_ok=True)\n",
    "    #os.makedirs(labels_dir, exist_ok=True)\n",
    "\n",
    "    idx_classe = segmentos_por_classe[classe]\n",
    "    seg_filename = f'segment_{reg}_{sample}_{classe}_{idx_classe:05d}.dat'\n",
    "    #label_filename = f'label_{reg}_{sample}_{classe}_{idx_classe:05d}.npy'\n",
    "\n",
    "    segmento_path = os.path.join(segments_dir, seg_filename)\n",
    "    #label_path = os.path.join(labels_dir, label_filename)\n",
    "\n",
    "    segmento_normalizado.astype('float32').tofile(segmento_path)\n",
    "    #np.save(label_path, np.array(classe, dtype='int32'))\n",
    "\n",
    "    segmentos_por_classe[classe] += 1\n",
    "    total_segmentos += 1\n",
    "\n",
    "print(\"\\nResumo de segmentos por classe:\")\n",
    "for classe, count in segmentos_por_classe.items():\n",
    "    print(f\"  Classe {classe}: {count} segmentos\")\n",
    "\n",
    "print(f\"\\nSegmentação finalizada. Total de segmentos salvos: {total_segmentos}\")"
   ]
  },
  {
   "cell_type": "code",
   "execution_count": 12,
   "id": "77b663a0",
   "metadata": {},
   "outputs": [
    {
     "name": "stdout",
     "output_type": "stream",
     "text": [
      "Carregados 91104 segmentos da classe 0\n",
      "Carregados 915 segmentos da classe 1\n"
     ]
    }
   ],
   "source": [
    "def carregar_segmentos(classe_dir):\n",
    "    arquivos = sorted([f for f in os.listdir(classe_dir) if f.endswith('.dat')])\n",
    "    segmentos = []\n",
    "    for f in arquivos:\n",
    "        path = os.path.join(classe_dir, f)\n",
    "        # Carrega vetor float32 do arquivo binário\n",
    "        segmento = np.fromfile(path, dtype='float32')\n",
    "        segmentos.append(segmento)\n",
    "    return segmentos\n",
    "\n",
    "# Diretórios das classes\n",
    "dir_classe_0 = os.path.join(output_base_path, '0')\n",
    "dir_classe_1 = os.path.join(output_base_path, '1')\n",
    "\n",
    "# Carrega os dados\n",
    "segmentos_0 = carregar_segmentos(dir_classe_0)\n",
    "segmentos_1 = carregar_segmentos(dir_classe_1)\n",
    "\n",
    "print(f\"Carregados {len(segmentos_0)} segmentos da classe 0\")\n",
    "print(f\"Carregados {len(segmentos_1)} segmentos da classe 1\")"
   ]
  },
  {
   "cell_type": "code",
   "execution_count": 18,
   "id": "83a9dfda",
   "metadata": {},
   "outputs": [
    {
     "data": {
      "image/png": "[encoded data removed]",
      "text/plain": [
       "<Figure size 1000x400 with 1 Axes>"
      ]
     },
     "metadata": {},
     "output_type": "display_data"
    },
    {
     "data": {
      "image/png": "[encoded data removed]",
      "text/plain": [
       "<Figure size 1000x400 with 1 Axes>"
      ]
     },
     "metadata": {},
     "output_type": "display_data"
    }
   ],
   "source": [
    "def plotar_segmento(segmentos, idx):\n",
    "    if idx < 0 or idx >= len(segmentos):\n",
    "        print(\"Índice fora do intervalo.\")\n",
    "        return\n",
    "    plt.figure(figsize=(10,4))\n",
    "    plt.plot(segmentos[idx])\n",
    "    plt.title(f\"Segmento índice {idx}\")\n",
    "    plt.xlabel(\"Amostra\")\n",
    "    plt.ylabel(\"Amplitude Normalizada\")\n",
    "    plt.grid(True)\n",
    "    plt.show()\n",
    "\n",
    "# Exemplo: plotar o segmento 0 da classe 0\n",
    "plotar_segmento(segmentos_0, 91087)\n",
    "\n",
    "# Exemplo: plotar o segmento 10 da classe 1\n",
    "plotar_segmento(segmentos_1, 15)\n"
   ]
  },
  {
   "cell_type": "markdown",
   "id": "384265a3",
   "metadata": {},
   "source": [
    "# Organização e separação dos dados em treinamento, validação e teste"
   ]
  }
 ],
 "metadata": {
  "kernelspec": {
   "display_name": "env",
   "language": "python",
   "name": "python3"
  },
  "language_info": {
   "codemirror_mode": {
    "name": "ipython",
    "version": 3
   },
   "file_extension": ".py",
   "mimetype": "text/x-python",
   "name": "python",
   "nbconvert_exporter": "python",
   "pygments_lexer": "ipython3",
   "version": "3.13.2"
  }
 },
 "nbformat": 4,
 "nbformat_minor": 5
}
